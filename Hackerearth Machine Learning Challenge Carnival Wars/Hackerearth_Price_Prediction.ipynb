{
 "cells": [
  {
   "cell_type": "code",
   "execution_count": 5,
   "metadata": {
    "id": "ZK8G5XuIGMOy"
   },
   "outputs": [],
   "source": [
    "import pandas as pd\n",
    "import numpy as np\n",
    "import matplotlib.pyplot as plt\n",
    "\n",
    "import warnings\n",
    "warnings.filterwarnings(\"ignore\", category= DeprecationWarning)\n",
    "\n",
    "from sklearn.linear_model import LinearRegression\n",
    "from sklearn.tree import DecisionTreeRegressor\n",
    "from sklearn.model_selection import train_test_split\n",
    "from sklearn.metrics import classification_report\n",
    "import xgboost as xgb\n",
    "from xgboost.sklearn import XGBRegressor\n",
    "from sklearn.model_selection import GridSearchCV\n",
    "from sklearn.ensemble import GradientBoostingRegressor\n",
    "\n",
    "\n"
   ]
  },
  {
   "cell_type": "code",
   "execution_count": 6,
   "metadata": {
    "id": "H_8x_c4xG_VX"
   },
   "outputs": [],
   "source": [
    "def read_data(train_data, test_data):\n",
    "\n",
    "  train_data = pd.read_csv(train_data)\n",
    "  test_data = pd.read_csv(test_data)\n",
    "\n",
    "  combine_df = train_data.append(test_data, ignore_index = True, sort = False)\n",
    "\n",
    "  return train_data,test_data,combine_df"
   ]
  },
  {
   "cell_type": "code",
   "execution_count": 7,
   "metadata": {
    "id": "rcFqHKaPHGbK"
   },
   "outputs": [],
   "source": [
    "train_data,test_data,combine_df = read_data('dataset/train.csv','dataset/test.csv')"
   ]
  },
  {
   "cell_type": "code",
   "execution_count": 8,
   "metadata": {
    "colab": {
     "base_uri": "https://localhost:8080/",
     "height": 317
    },
    "id": "l2A-HVKMHhln",
    "outputId": "d84c76e9-c810-446c-bf35-382e8b933881"
   },
   "outputs": [
    {
     "data": {
      "text/html": [
       "<div>\n",
       "<style scoped>\n",
       "    .dataframe tbody tr th:only-of-type {\n",
       "        vertical-align: middle;\n",
       "    }\n",
       "\n",
       "    .dataframe tbody tr th {\n",
       "        vertical-align: top;\n",
       "    }\n",
       "\n",
       "    .dataframe thead th {\n",
       "        text-align: right;\n",
       "    }\n",
       "</style>\n",
       "<table border=\"1\" class=\"dataframe\">\n",
       "  <thead>\n",
       "    <tr style=\"text-align: right;\">\n",
       "      <th></th>\n",
       "      <th>Product_id</th>\n",
       "      <th>Stall_no</th>\n",
       "      <th>instock_date</th>\n",
       "      <th>Market_Category</th>\n",
       "      <th>Customer_name</th>\n",
       "      <th>Loyalty_customer</th>\n",
       "      <th>Product_Category</th>\n",
       "      <th>Grade</th>\n",
       "      <th>Demand</th>\n",
       "      <th>Discount_avail</th>\n",
       "      <th>charges_1</th>\n",
       "      <th>charges_2 (%)</th>\n",
       "      <th>Minimum_price</th>\n",
       "      <th>Maximum_price</th>\n",
       "      <th>Selling_Price</th>\n",
       "    </tr>\n",
       "  </thead>\n",
       "  <tbody>\n",
       "    <tr>\n",
       "      <th>0</th>\n",
       "      <td>BRAE2NF6JA5GUEXG</td>\n",
       "      <td>37.0</td>\n",
       "      <td>2015-08-22 18:36:12.000</td>\n",
       "      <td>2</td>\n",
       "      <td>Lillyann</td>\n",
       "      <td>Yes</td>\n",
       "      <td>Fashion</td>\n",
       "      <td>1</td>\n",
       "      <td>68</td>\n",
       "      <td>0.0</td>\n",
       "      <td>376.0</td>\n",
       "      <td>11.0</td>\n",
       "      <td>2983.0</td>\n",
       "      <td>4713.0</td>\n",
       "      <td>4185.947700</td>\n",
       "    </tr>\n",
       "    <tr>\n",
       "      <th>1</th>\n",
       "      <td>TUNE8SFB6RJN2HSD</td>\n",
       "      <td>38.0</td>\n",
       "      <td>2016-03-27 21:19:13.000</td>\n",
       "      <td>24</td>\n",
       "      <td>Klynn</td>\n",
       "      <td>Yes</td>\n",
       "      <td>Fashion</td>\n",
       "      <td>0</td>\n",
       "      <td>51</td>\n",
       "      <td>0.0</td>\n",
       "      <td>397.0</td>\n",
       "      <td>12.0</td>\n",
       "      <td>7495.0</td>\n",
       "      <td>10352.0</td>\n",
       "      <td>9271.490256</td>\n",
       "    </tr>\n",
       "    <tr>\n",
       "      <th>2</th>\n",
       "      <td>BRAEAR7WZPQGPBZU</td>\n",
       "      <td>9.0</td>\n",
       "      <td>2015-08-18 19:25:22.000</td>\n",
       "      <td>447</td>\n",
       "      <td>Ridge</td>\n",
       "      <td>Yes</td>\n",
       "      <td>Child_care</td>\n",
       "      <td>0</td>\n",
       "      <td>10</td>\n",
       "      <td>0.0</td>\n",
       "      <td>250.0</td>\n",
       "      <td>9.0</td>\n",
       "      <td>5752.0</td>\n",
       "      <td>7309.0</td>\n",
       "      <td>6785.701362</td>\n",
       "    </tr>\n",
       "    <tr>\n",
       "      <th>3</th>\n",
       "      <td>WATDZ2ZQ8JPDHCTJ</td>\n",
       "      <td>50.0</td>\n",
       "      <td>2016-03-28 21:53:01.000</td>\n",
       "      <td>23</td>\n",
       "      <td>Abran</td>\n",
       "      <td>Yes</td>\n",
       "      <td>Educational</td>\n",
       "      <td>2</td>\n",
       "      <td>48</td>\n",
       "      <td>0.0</td>\n",
       "      <td>144.0</td>\n",
       "      <td>13.0</td>\n",
       "      <td>5090.0</td>\n",
       "      <td>20814.0</td>\n",
       "      <td>13028.917824</td>\n",
       "    </tr>\n",
       "    <tr>\n",
       "      <th>4</th>\n",
       "      <td>JWSEBUKYQPMBZ3RK</td>\n",
       "      <td>7.0</td>\n",
       "      <td>2016-03-29 22:58:53.000</td>\n",
       "      <td>63</td>\n",
       "      <td>Dustyn</td>\n",
       "      <td>Yes</td>\n",
       "      <td>Repair</td>\n",
       "      <td>1</td>\n",
       "      <td>35</td>\n",
       "      <td>1.0</td>\n",
       "      <td>211.0</td>\n",
       "      <td>4.0</td>\n",
       "      <td>2430.0</td>\n",
       "      <td>9261.0</td>\n",
       "      <td>906.553935</td>\n",
       "    </tr>\n",
       "  </tbody>\n",
       "</table>\n",
       "</div>"
      ],
      "text/plain": [
       "         Product_id  Stall_no             instock_date  Market_Category  \\\n",
       "0  BRAE2NF6JA5GUEXG      37.0  2015-08-22 18:36:12.000                2   \n",
       "1  TUNE8SFB6RJN2HSD      38.0  2016-03-27 21:19:13.000               24   \n",
       "2  BRAEAR7WZPQGPBZU       9.0  2015-08-18 19:25:22.000              447   \n",
       "3  WATDZ2ZQ8JPDHCTJ      50.0  2016-03-28 21:53:01.000               23   \n",
       "4  JWSEBUKYQPMBZ3RK       7.0  2016-03-29 22:58:53.000               63   \n",
       "\n",
       "  Customer_name Loyalty_customer Product_Category  Grade  Demand  \\\n",
       "0      Lillyann              Yes          Fashion      1      68   \n",
       "1         Klynn              Yes          Fashion      0      51   \n",
       "2         Ridge              Yes       Child_care      0      10   \n",
       "3         Abran              Yes      Educational      2      48   \n",
       "4        Dustyn              Yes           Repair      1      35   \n",
       "\n",
       "   Discount_avail  charges_1  charges_2 (%)  Minimum_price  Maximum_price  \\\n",
       "0             0.0      376.0           11.0         2983.0         4713.0   \n",
       "1             0.0      397.0           12.0         7495.0        10352.0   \n",
       "2             0.0      250.0            9.0         5752.0         7309.0   \n",
       "3             0.0      144.0           13.0         5090.0        20814.0   \n",
       "4             1.0      211.0            4.0         2430.0         9261.0   \n",
       "\n",
       "   Selling_Price  \n",
       "0    4185.947700  \n",
       "1    9271.490256  \n",
       "2    6785.701362  \n",
       "3   13028.917824  \n",
       "4     906.553935  "
      ]
     },
     "execution_count": 8,
     "metadata": {},
     "output_type": "execute_result"
    }
   ],
   "source": [
    "train_data.head()"
   ]
  },
  {
   "cell_type": "code",
   "execution_count": 9,
   "metadata": {
    "colab": {
     "base_uri": "https://localhost:8080/"
    },
    "id": "dkpL7gqwHkfW",
    "outputId": "e814ee31-f21b-401b-81af-05746f588139"
   },
   "outputs": [
    {
     "name": "stdout",
     "output_type": "stream",
     "text": [
      "<class 'pandas.core.frame.DataFrame'>\n",
      "RangeIndex: 6368 entries, 0 to 6367\n",
      "Data columns (total 15 columns):\n",
      "Product_id          6368 non-null object\n",
      "Stall_no            6363 non-null float64\n",
      "instock_date        6368 non-null object\n",
      "Market_Category     6368 non-null int64\n",
      "Customer_name       6157 non-null object\n",
      "Loyalty_customer    6368 non-null object\n",
      "Product_Category    6368 non-null object\n",
      "Grade               6368 non-null int64\n",
      "Demand              6368 non-null int64\n",
      "Discount_avail      6330 non-null float64\n",
      "charges_1           6170 non-null float64\n",
      "charges_2 (%)       6163 non-null float64\n",
      "Minimum_price       6330 non-null float64\n",
      "Maximum_price       6025 non-null float64\n",
      "Selling_Price       6327 non-null float64\n",
      "dtypes: float64(7), int64(3), object(5)\n",
      "memory usage: 746.4+ KB\n"
     ]
    },
    {
     "data": {
      "text/plain": [
       "(Product_id            0\n",
       " Stall_no              5\n",
       " instock_date          0\n",
       " Market_Category       0\n",
       " Customer_name       211\n",
       " Loyalty_customer      0\n",
       " Product_Category      0\n",
       " Grade                 0\n",
       " Demand                0\n",
       " Discount_avail       38\n",
       " charges_1           198\n",
       " charges_2 (%)       205\n",
       " Minimum_price        38\n",
       " Maximum_price       343\n",
       " Selling_Price        41\n",
       " dtype: int64,\n",
       " None)"
      ]
     },
     "execution_count": 9,
     "metadata": {},
     "output_type": "execute_result"
    }
   ],
   "source": [
    "train_data.isnull().sum(),train_data.info()"
   ]
  },
  {
   "cell_type": "code",
   "execution_count": 10,
   "metadata": {
    "colab": {
     "base_uri": "https://localhost:8080/"
    },
    "id": "IsIT69GYvzDJ",
    "outputId": "ad4835fa-6903-471d-ed2c-cb974cb08ee2"
   },
   "outputs": [
    {
     "name": "stdout",
     "output_type": "stream",
     "text": [
      "<class 'pandas.core.frame.DataFrame'>\n",
      "RangeIndex: 3430 entries, 0 to 3429\n",
      "Data columns (total 14 columns):\n",
      "Product_id          3430 non-null object\n",
      "Stall_no            3429 non-null float64\n",
      "instock_date        3430 non-null object\n",
      "Market_Category     3430 non-null int64\n",
      "Customer_name       3377 non-null object\n",
      "Loyalty_customer    3430 non-null object\n",
      "Product_Category    3430 non-null object\n",
      "Grade               3430 non-null int64\n",
      "Demand              3430 non-null int64\n",
      "Discount_avail      3430 non-null int64\n",
      "charges_1           3394 non-null float64\n",
      "charges_2 (%)       3425 non-null float64\n",
      "Minimum_price       3416 non-null float64\n",
      "Maximum_price       3430 non-null int64\n",
      "dtypes: float64(4), int64(5), object(5)\n",
      "memory usage: 375.3+ KB\n"
     ]
    },
    {
     "data": {
      "text/plain": [
       "(Product_id           0\n",
       " Stall_no             1\n",
       " instock_date         0\n",
       " Market_Category      0\n",
       " Customer_name       53\n",
       " Loyalty_customer     0\n",
       " Product_Category     0\n",
       " Grade                0\n",
       " Demand               0\n",
       " Discount_avail       0\n",
       " charges_1           36\n",
       " charges_2 (%)        5\n",
       " Minimum_price       14\n",
       " Maximum_price        0\n",
       " dtype: int64,\n",
       " None)"
      ]
     },
     "execution_count": 10,
     "metadata": {},
     "output_type": "execute_result"
    }
   ],
   "source": [
    "test_data.isnull().sum(),test_data.info()"
   ]
  },
  {
   "cell_type": "code",
   "execution_count": 11,
   "metadata": {
    "colab": {
     "base_uri": "https://localhost:8080/"
    },
    "id": "0xc7e7fCHoMj",
    "outputId": "48fcffe1-1d27-4bf4-e5a4-6cd317986549"
   },
   "outputs": [
    {
     "data": {
      "text/plain": [
       "Index(['Stall_no', 'Market_Category', 'Grade', 'Demand', 'Discount_avail',\n",
       "       'charges_1', 'charges_2 (%)', 'Minimum_price', 'Maximum_price',\n",
       "       'Selling_Price'],\n",
       "      dtype='object')"
      ]
     },
     "execution_count": 11,
     "metadata": {},
     "output_type": "execute_result"
    }
   ],
   "source": [
    "train_data.select_dtypes('number').columns"
   ]
  },
  {
   "cell_type": "code",
   "execution_count": 12,
   "metadata": {
    "colab": {
     "base_uri": "https://localhost:8080/"
    },
    "id": "RvgAebzdJmsf",
    "outputId": "607063d4-a9aa-4460-df9a-62caef1ad760"
   },
   "outputs": [
    {
     "data": {
      "text/plain": [
       "Index(['Product_id', 'instock_date', 'Customer_name', 'Loyalty_customer',\n",
       "       'Product_Category'],\n",
       "      dtype='object')"
      ]
     },
     "execution_count": 12,
     "metadata": {},
     "output_type": "execute_result"
    }
   ],
   "source": [
    "train_data.select_dtypes('object').columns"
   ]
  },
  {
   "cell_type": "code",
   "execution_count": 16,
   "metadata": {
    "colab": {
     "base_uri": "https://localhost:8080/"
    },
    "id": "i6QjIaZTg0mk",
    "outputId": "8925167d-5e51-4233-963f-24166b92cf56"
   },
   "outputs": [
    {
     "name": "stdout",
     "output_type": "stream",
     "text": [
      "uniquevalues in Product_id is 6368\n",
      "uniquevalues in Stall_no is 50\n",
      "uniquevalues in instock_date is 5350\n",
      "uniquevalues in Market_Category is 248\n",
      "uniquevalues in Customer_name is 5900\n",
      "uniquevalues in Loyalty_customer is 2\n",
      "uniquevalues in Product_Category is 10\n",
      "uniquevalues in Grade is 4\n",
      "uniquevalues in Demand is 100\n",
      "uniquevalues in Discount_avail is 2\n",
      "uniquevalues in charges_1 is 487\n",
      "uniquevalues in charges_2 (%) is 17\n",
      "uniquevalues in Minimum_price is 4236\n",
      "uniquevalues in Maximum_price is 4618\n",
      "uniquevalues in Selling_Price is 6321\n"
     ]
    }
   ],
   "source": [
    "for col in train_data.columns:\n",
    "  # print(\"For\", col ,train_data[col].value_counts())\n",
    "  print(\"uniquevalues in {} is {}\".format(col, len(train_data[col].value_counts())))\n",
    "  # print(train_data[col].value_counts())\n",
    "test_productid = test_data.Product_id\n"
   ]
  },
  {
   "cell_type": "code",
   "execution_count": 17,
   "metadata": {
    "id": "M3hicxkgbvt2"
   },
   "outputs": [],
   "source": [
    "def data_prep(df,df_test):\n",
    "\n",
    "  df.drop(columns = ['Customer_name','Product_id'],inplace = True)\n",
    "  df_test.drop(columns = ['Customer_name','Product_id'],inplace = True)\n",
    "\n",
    "  df = df.dropna(axis=0, subset=['Selling_Price'])\n",
    "  # df = df.loc(df['Selling_Price']>= 0)\n",
    "  df.Selling_Price = np.where(df.Selling_Price < 0, 0,df.Selling_Price)\n",
    "  # df_new = df.loc(df.Selling_Price > 0)\n",
    "  df = df.dropna(how = 'any')\n",
    "\n",
    "  # df.Stall_no.fillna(df.Stall_no.median(),inplace=True)\n",
    "  # df.Discount_avail.fillna(df.Discount_avail.median(),inplace=True)\n",
    "  # df.charges_1.fillna(df.charges_1.median(),inplace=True)\n",
    "  # df['charges_2 (%)'].fillna(df['charges_2 (%)'].median(),inplace=True)\n",
    "  # df.Minimum_price.fillna(df.Minimum_price.median(),inplace=True)\n",
    "  # df.Maximum_price.fillna(df.Maximum_price.median(),inplace=True)       \n",
    "\n",
    "  df_test.Stall_no.fillna(df_test.Stall_no.median(),inplace=True)\n",
    "  df_test.Discount_avail.fillna(df_test.Discount_avail.median(),inplace=True)\n",
    "  df_test.charges_1.fillna(df_test.charges_1.median(),inplace=True)\n",
    "  df_test['charges_2 (%)'].fillna(df_test['charges_2 (%)'].median(),inplace=True)\n",
    "  df_test.Minimum_price.fillna(df_test.Minimum_price.median(),inplace=True)\n",
    "  df_test.Maximum_price.fillna(df_test.Maximum_price.median(),inplace=True)\n",
    "\n",
    "  return df,df_test"
   ]
  },
  {
   "cell_type": "code",
   "execution_count": 18,
   "metadata": {
    "colab": {
     "base_uri": "https://localhost:8080/",
     "height": 404
    },
    "id": "F1aTqqqvF0F8",
    "outputId": "aa015681-ae32-4711-9512-d32b6aa7d485"
   },
   "outputs": [
    {
     "name": "stderr",
     "output_type": "stream",
     "text": [
      "C:\\Users\\rohit.raj\\AppData\\Local\\Continuum\\anaconda3\\envs\\adapdix\\lib\\site-packages\\pandas\\core\\generic.py:5208: SettingWithCopyWarning: \n",
      "A value is trying to be set on a copy of a slice from a DataFrame.\n",
      "Try using .loc[row_indexer,col_indexer] = value instead\n",
      "\n",
      "See the caveats in the documentation: http://pandas.pydata.org/pandas-docs/stable/user_guide/indexing.html#returning-a-view-versus-a-copy\n",
      "  self[name] = value\n"
     ]
    },
    {
     "data": {
      "text/html": [
       "<div>\n",
       "<style scoped>\n",
       "    .dataframe tbody tr th:only-of-type {\n",
       "        vertical-align: middle;\n",
       "    }\n",
       "\n",
       "    .dataframe tbody tr th {\n",
       "        vertical-align: top;\n",
       "    }\n",
       "\n",
       "    .dataframe thead th {\n",
       "        text-align: right;\n",
       "    }\n",
       "</style>\n",
       "<table border=\"1\" class=\"dataframe\">\n",
       "  <thead>\n",
       "    <tr style=\"text-align: right;\">\n",
       "      <th></th>\n",
       "      <th>Stall_no</th>\n",
       "      <th>instock_date</th>\n",
       "      <th>Market_Category</th>\n",
       "      <th>Loyalty_customer</th>\n",
       "      <th>Product_Category</th>\n",
       "      <th>Grade</th>\n",
       "      <th>Demand</th>\n",
       "      <th>Discount_avail</th>\n",
       "      <th>charges_1</th>\n",
       "      <th>charges_2 (%)</th>\n",
       "      <th>Minimum_price</th>\n",
       "      <th>Maximum_price</th>\n",
       "      <th>Selling_Price</th>\n",
       "    </tr>\n",
       "  </thead>\n",
       "  <tbody>\n",
       "    <tr>\n",
       "      <th>0</th>\n",
       "      <td>37.0</td>\n",
       "      <td>2015-08-22 18:36:12.000</td>\n",
       "      <td>2</td>\n",
       "      <td>Yes</td>\n",
       "      <td>Fashion</td>\n",
       "      <td>1</td>\n",
       "      <td>68</td>\n",
       "      <td>0.0</td>\n",
       "      <td>376.0</td>\n",
       "      <td>11.0</td>\n",
       "      <td>2983.0</td>\n",
       "      <td>4713.0</td>\n",
       "      <td>4185.947700</td>\n",
       "    </tr>\n",
       "    <tr>\n",
       "      <th>1</th>\n",
       "      <td>38.0</td>\n",
       "      <td>2016-03-27 21:19:13.000</td>\n",
       "      <td>24</td>\n",
       "      <td>Yes</td>\n",
       "      <td>Fashion</td>\n",
       "      <td>0</td>\n",
       "      <td>51</td>\n",
       "      <td>0.0</td>\n",
       "      <td>397.0</td>\n",
       "      <td>12.0</td>\n",
       "      <td>7495.0</td>\n",
       "      <td>10352.0</td>\n",
       "      <td>9271.490256</td>\n",
       "    </tr>\n",
       "    <tr>\n",
       "      <th>2</th>\n",
       "      <td>9.0</td>\n",
       "      <td>2015-08-18 19:25:22.000</td>\n",
       "      <td>447</td>\n",
       "      <td>Yes</td>\n",
       "      <td>Child_care</td>\n",
       "      <td>0</td>\n",
       "      <td>10</td>\n",
       "      <td>0.0</td>\n",
       "      <td>250.0</td>\n",
       "      <td>9.0</td>\n",
       "      <td>5752.0</td>\n",
       "      <td>7309.0</td>\n",
       "      <td>6785.701362</td>\n",
       "    </tr>\n",
       "    <tr>\n",
       "      <th>3</th>\n",
       "      <td>50.0</td>\n",
       "      <td>2016-03-28 21:53:01.000</td>\n",
       "      <td>23</td>\n",
       "      <td>Yes</td>\n",
       "      <td>Educational</td>\n",
       "      <td>2</td>\n",
       "      <td>48</td>\n",
       "      <td>0.0</td>\n",
       "      <td>144.0</td>\n",
       "      <td>13.0</td>\n",
       "      <td>5090.0</td>\n",
       "      <td>20814.0</td>\n",
       "      <td>13028.917824</td>\n",
       "    </tr>\n",
       "    <tr>\n",
       "      <th>4</th>\n",
       "      <td>7.0</td>\n",
       "      <td>2016-03-29 22:58:53.000</td>\n",
       "      <td>63</td>\n",
       "      <td>Yes</td>\n",
       "      <td>Repair</td>\n",
       "      <td>1</td>\n",
       "      <td>35</td>\n",
       "      <td>1.0</td>\n",
       "      <td>211.0</td>\n",
       "      <td>4.0</td>\n",
       "      <td>2430.0</td>\n",
       "      <td>9261.0</td>\n",
       "      <td>906.553935</td>\n",
       "    </tr>\n",
       "  </tbody>\n",
       "</table>\n",
       "</div>"
      ],
      "text/plain": [
       "   Stall_no             instock_date  Market_Category Loyalty_customer  \\\n",
       "0      37.0  2015-08-22 18:36:12.000                2              Yes   \n",
       "1      38.0  2016-03-27 21:19:13.000               24              Yes   \n",
       "2       9.0  2015-08-18 19:25:22.000              447              Yes   \n",
       "3      50.0  2016-03-28 21:53:01.000               23              Yes   \n",
       "4       7.0  2016-03-29 22:58:53.000               63              Yes   \n",
       "\n",
       "  Product_Category  Grade  Demand  Discount_avail  charges_1  charges_2 (%)  \\\n",
       "0          Fashion      1      68             0.0      376.0           11.0   \n",
       "1          Fashion      0      51             0.0      397.0           12.0   \n",
       "2       Child_care      0      10             0.0      250.0            9.0   \n",
       "3      Educational      2      48             0.0      144.0           13.0   \n",
       "4           Repair      1      35             1.0      211.0            4.0   \n",
       "\n",
       "   Minimum_price  Maximum_price  Selling_Price  \n",
       "0         2983.0         4713.0    4185.947700  \n",
       "1         7495.0        10352.0    9271.490256  \n",
       "2         5752.0         7309.0    6785.701362  \n",
       "3         5090.0        20814.0   13028.917824  \n",
       "4         2430.0         9261.0     906.553935  "
      ]
     },
     "execution_count": 18,
     "metadata": {},
     "output_type": "execute_result"
    }
   ],
   "source": [
    "train_data,test_data = data_prep(train_data,test_data)\n",
    "train_data.head()"
   ]
  },
  {
   "cell_type": "code",
   "execution_count": 19,
   "metadata": {
    "id": "x0FpI5NtF0Iz"
   },
   "outputs": [],
   "source": [
    "from sklearn.preprocessing import LabelEncoder\n",
    "le = LabelEncoder()\n",
    "train_data['Loyalty_customer'] = le.fit_transform(train_data['Loyalty_customer'])\n",
    "test_data['Loyalty_customer'] = le.fit_transform(test_data['Loyalty_customer'])\n",
    "\n",
    "# train_data['Product_Category'] = le.fit_transform(train_data['Product_Category'])\n"
   ]
  },
  {
   "cell_type": "code",
   "execution_count": 20,
   "metadata": {
    "colab": {
     "base_uri": "https://localhost:8080/",
     "height": 297
    },
    "id": "Q_ia6CBub8Ro",
    "outputId": "df2f22ba-b201-42f8-ac23-e262df8ba4f5"
   },
   "outputs": [
    {
     "data": {
      "text/html": [
       "<div>\n",
       "<style scoped>\n",
       "    .dataframe tbody tr th:only-of-type {\n",
       "        vertical-align: middle;\n",
       "    }\n",
       "\n",
       "    .dataframe tbody tr th {\n",
       "        vertical-align: top;\n",
       "    }\n",
       "\n",
       "    .dataframe thead th {\n",
       "        text-align: right;\n",
       "    }\n",
       "</style>\n",
       "<table border=\"1\" class=\"dataframe\">\n",
       "  <thead>\n",
       "    <tr style=\"text-align: right;\">\n",
       "      <th></th>\n",
       "      <th>Stall_no</th>\n",
       "      <th>instock_date</th>\n",
       "      <th>Market_Category</th>\n",
       "      <th>Loyalty_customer</th>\n",
       "      <th>Product_Category</th>\n",
       "      <th>Grade</th>\n",
       "      <th>Demand</th>\n",
       "      <th>Discount_avail</th>\n",
       "      <th>charges_1</th>\n",
       "      <th>charges_2 (%)</th>\n",
       "      <th>Minimum_price</th>\n",
       "      <th>Maximum_price</th>\n",
       "      <th>Selling_Price</th>\n",
       "    </tr>\n",
       "  </thead>\n",
       "  <tbody>\n",
       "    <tr>\n",
       "      <th>0</th>\n",
       "      <td>37.0</td>\n",
       "      <td>2015-08-22 18:36:12.000</td>\n",
       "      <td>2</td>\n",
       "      <td>1</td>\n",
       "      <td>Fashion</td>\n",
       "      <td>1</td>\n",
       "      <td>68</td>\n",
       "      <td>0.0</td>\n",
       "      <td>376.0</td>\n",
       "      <td>11.0</td>\n",
       "      <td>2983.0</td>\n",
       "      <td>4713.0</td>\n",
       "      <td>4185.947700</td>\n",
       "    </tr>\n",
       "    <tr>\n",
       "      <th>1</th>\n",
       "      <td>38.0</td>\n",
       "      <td>2016-03-27 21:19:13.000</td>\n",
       "      <td>24</td>\n",
       "      <td>1</td>\n",
       "      <td>Fashion</td>\n",
       "      <td>0</td>\n",
       "      <td>51</td>\n",
       "      <td>0.0</td>\n",
       "      <td>397.0</td>\n",
       "      <td>12.0</td>\n",
       "      <td>7495.0</td>\n",
       "      <td>10352.0</td>\n",
       "      <td>9271.490256</td>\n",
       "    </tr>\n",
       "    <tr>\n",
       "      <th>2</th>\n",
       "      <td>9.0</td>\n",
       "      <td>2015-08-18 19:25:22.000</td>\n",
       "      <td>447</td>\n",
       "      <td>1</td>\n",
       "      <td>Child_care</td>\n",
       "      <td>0</td>\n",
       "      <td>10</td>\n",
       "      <td>0.0</td>\n",
       "      <td>250.0</td>\n",
       "      <td>9.0</td>\n",
       "      <td>5752.0</td>\n",
       "      <td>7309.0</td>\n",
       "      <td>6785.701362</td>\n",
       "    </tr>\n",
       "    <tr>\n",
       "      <th>3</th>\n",
       "      <td>50.0</td>\n",
       "      <td>2016-03-28 21:53:01.000</td>\n",
       "      <td>23</td>\n",
       "      <td>1</td>\n",
       "      <td>Educational</td>\n",
       "      <td>2</td>\n",
       "      <td>48</td>\n",
       "      <td>0.0</td>\n",
       "      <td>144.0</td>\n",
       "      <td>13.0</td>\n",
       "      <td>5090.0</td>\n",
       "      <td>20814.0</td>\n",
       "      <td>13028.917824</td>\n",
       "    </tr>\n",
       "    <tr>\n",
       "      <th>4</th>\n",
       "      <td>7.0</td>\n",
       "      <td>2016-03-29 22:58:53.000</td>\n",
       "      <td>63</td>\n",
       "      <td>1</td>\n",
       "      <td>Repair</td>\n",
       "      <td>1</td>\n",
       "      <td>35</td>\n",
       "      <td>1.0</td>\n",
       "      <td>211.0</td>\n",
       "      <td>4.0</td>\n",
       "      <td>2430.0</td>\n",
       "      <td>9261.0</td>\n",
       "      <td>906.553935</td>\n",
       "    </tr>\n",
       "  </tbody>\n",
       "</table>\n",
       "</div>"
      ],
      "text/plain": [
       "   Stall_no             instock_date  Market_Category  Loyalty_customer  \\\n",
       "0      37.0  2015-08-22 18:36:12.000                2                 1   \n",
       "1      38.0  2016-03-27 21:19:13.000               24                 1   \n",
       "2       9.0  2015-08-18 19:25:22.000              447                 1   \n",
       "3      50.0  2016-03-28 21:53:01.000               23                 1   \n",
       "4       7.0  2016-03-29 22:58:53.000               63                 1   \n",
       "\n",
       "  Product_Category  Grade  Demand  Discount_avail  charges_1  charges_2 (%)  \\\n",
       "0          Fashion      1      68             0.0      376.0           11.0   \n",
       "1          Fashion      0      51             0.0      397.0           12.0   \n",
       "2       Child_care      0      10             0.0      250.0            9.0   \n",
       "3      Educational      2      48             0.0      144.0           13.0   \n",
       "4           Repair      1      35             1.0      211.0            4.0   \n",
       "\n",
       "   Minimum_price  Maximum_price  Selling_Price  \n",
       "0         2983.0         4713.0    4185.947700  \n",
       "1         7495.0        10352.0    9271.490256  \n",
       "2         5752.0         7309.0    6785.701362  \n",
       "3         5090.0        20814.0   13028.917824  \n",
       "4         2430.0         9261.0     906.553935  "
      ]
     },
     "execution_count": 20,
     "metadata": {},
     "output_type": "execute_result"
    }
   ],
   "source": [
    "train_data.head()"
   ]
  },
  {
   "cell_type": "code",
   "execution_count": 21,
   "metadata": {
    "id": "3hmwmO1PcIxH"
   },
   "outputs": [],
   "source": [
    "train_data['month_instock'] = pd.to_datetime(train_data['instock_date']).dt.month\n",
    "train_data['year_instock'] = pd.to_datetime(train_data['instock_date']).dt.year\n",
    "train_data['day_instock'] = pd.to_datetime(train_data['instock_date']).dt.day\n",
    "train_data['weekday_instock'] = pd.to_datetime(train_data['instock_date']).dt.weekday\n",
    "\n",
    "\n",
    "test_data['month_instock'] = pd.to_datetime(test_data['instock_date']).dt.month\n",
    "test_data['year_instock'] = pd.to_datetime(test_data['instock_date']).dt.year\n",
    "test_data['day_instock'] = pd.to_datetime(test_data['instock_date']).dt.day\n",
    "test_data['weekday_instock'] = pd.to_datetime(test_data['instock_date']).dt.weekday"
   ]
  },
  {
   "cell_type": "code",
   "execution_count": 22,
   "metadata": {
    "id": "J6-uFLN1cIzq"
   },
   "outputs": [],
   "source": [
    "product=pd.get_dummies(train_data[['Product_Category']])\n",
    "train_data = pd.concat([train_data,product],axis=1)\n",
    "\n",
    "\n",
    "test_product=pd.get_dummies(test_data[['Product_Category']])\n",
    "test_data = pd.concat([test_data,test_product],axis=1)"
   ]
  },
  {
   "cell_type": "code",
   "execution_count": 23,
   "metadata": {
    "id": "2Kr8JsN4eP89"
   },
   "outputs": [],
   "source": [
    "train_data.drop(columns=['Product_Category','instock_date'],inplace=True)\n",
    "\n",
    "test_data.drop(columns=['Product_Category','instock_date'],inplace=True)"
   ]
  },
  {
   "cell_type": "code",
   "execution_count": 24,
   "metadata": {
    "colab": {
     "base_uri": "https://localhost:8080/"
    },
    "id": "Zby4FxeAfJkv",
    "outputId": "7fc0446e-a9f1-4b26-bd5f-87826fc6104d"
   },
   "outputs": [
    {
     "data": {
      "text/plain": [
       "Index(['Stall_no', 'Market_Category', 'Loyalty_customer', 'Grade', 'Demand',\n",
       "       'Discount_avail', 'charges_1', 'charges_2 (%)', 'Minimum_price',\n",
       "       'Maximum_price', 'Selling_Price', 'month_instock', 'year_instock',\n",
       "       'day_instock', 'weekday_instock', 'Product_Category_Child_care',\n",
       "       'Product_Category_Cosmetics', 'Product_Category_Educational',\n",
       "       'Product_Category_Fashion', 'Product_Category_Home_decor',\n",
       "       'Product_Category_Hospitality', 'Product_Category_Organic',\n",
       "       'Product_Category_Pet_care', 'Product_Category_Repair',\n",
       "       'Product_Category_Technology'],\n",
       "      dtype='object')"
      ]
     },
     "execution_count": 24,
     "metadata": {},
     "output_type": "execute_result"
    }
   ],
   "source": [
    "train_data.columns"
   ]
  },
  {
   "cell_type": "code",
   "execution_count": 25,
   "metadata": {
    "colab": {
     "base_uri": "https://localhost:8080/"
    },
    "id": "oSS5ieRjmtxm",
    "outputId": "5ba0d851-6916-4a47-ffbf-e73fd0fe91ce"
   },
   "outputs": [
    {
     "data": {
      "text/plain": [
       "Index(['Stall_no', 'Market_Category', 'Loyalty_customer', 'Grade', 'Demand',\n",
       "       'Discount_avail', 'charges_1', 'charges_2 (%)', 'Minimum_price',\n",
       "       'Maximum_price', 'month_instock', 'year_instock', 'day_instock',\n",
       "       'weekday_instock', 'Product_Category_Child_care',\n",
       "       'Product_Category_Cosmetics', 'Product_Category_Educational',\n",
       "       'Product_Category_Fashion', 'Product_Category_Home_decor',\n",
       "       'Product_Category_Hospitality', 'Product_Category_Organic',\n",
       "       'Product_Category_Pet_care', 'Product_Category_Repair',\n",
       "       'Product_Category_Technology'],\n",
       "      dtype='object')"
      ]
     },
     "execution_count": 25,
     "metadata": {},
     "output_type": "execute_result"
    }
   ],
   "source": [
    "test_data.columns"
   ]
  },
  {
   "cell_type": "code",
   "execution_count": 26,
   "metadata": {
    "id": "oSk23u2Tfg1l"
   },
   "outputs": [],
   "source": [
    "X = train_data.loc[ :, train_data.columns != 'Selling_Price']\n",
    "# X.columns\n",
    "y = train_data['Selling_Price']"
   ]
  },
  {
   "cell_type": "code",
   "execution_count": 27,
   "metadata": {
    "id": "DYG6VxabfJm1"
   },
   "outputs": [],
   "source": [
    "\n",
    "from sklearn.model_selection import train_test_split\n",
    "X_train,X_test,y_train,y_test=train_test_split(X,y,test_size=0.0001,random_state=42)\n"
   ]
  },
  {
   "cell_type": "code",
   "execution_count": 28,
   "metadata": {
    "id": "aaRtLenPDF1n"
   },
   "outputs": [],
   "source": [
    "# param_grid = [{'n_estimators':np.arange(10,301,10),'max_depth':np.arange(2,20,2),\n",
    "#                'learning_rate': np.arange(0.01,1.5,0.1),\n",
    "#                }]\n",
    "               \n",
    "#               #  'subsample': np.arange(0.4,1,0.1),'colsample_bytree': (0.4,1,0.1)}]\n",
    "# xgb = XGBRegressor()\n",
    "# xgb_grid = GridSearchCV(xgb,param_grid,cv = 5,n_jobs = 15,verbose=6) \n",
    "# # xgb_grid = GridSearchCV(xgb,param_grid,cv = 5,n_jobs = 10,verbose=6,scoring='r2') \n",
    "\n",
    "# xgb_grid.fit(X_train,y_train)"
   ]
  },
  {
   "cell_type": "code",
   "execution_count": 29,
   "metadata": {
    "id": "mcxe1kRXLkG1"
   },
   "outputs": [],
   "source": [
    "# xgb_grid.best_params_\n",
    "# xgb_grid.best_score_"
   ]
  },
  {
   "cell_type": "code",
   "execution_count": 30,
   "metadata": {
    "colab": {
     "base_uri": "https://localhost:8080/"
    },
    "id": "GMs0wJrGhAxS",
    "outputId": "20585fd0-ad2a-4020-ad7d-f372680e973b"
   },
   "outputs": [
    {
     "name": "stderr",
     "output_type": "stream",
     "text": [
      "[Parallel(n_jobs=1)]: Using backend SequentialBackend with 1 concurrent workers.\n",
      "[Parallel(n_jobs=1)]: Done  70 out of  70 | elapsed:    5.7s finished\n"
     ]
    },
    {
     "data": {
      "text/plain": [
       "RandomForestRegressor(max_depth=20, n_estimators=70, random_state=0, verbose=1)"
      ]
     },
     "execution_count": 30,
     "metadata": {},
     "output_type": "execute_result"
    }
   ],
   "source": [
    "from sklearn.ensemble import RandomForestRegressor\n",
    "\n",
    "\n",
    "# param_grid = [{'n_estimators':np.arange(50,301,20),\n",
    "#                'max_depth': np.arange(2,22,2),\n",
    "#                }]\n",
    "# rf_reg = RandomForestRegressor()\n",
    "# reg_grid = GridSearchCV(rf_reg,param_grid,cv = 5,n_jobs = 20) \n",
    "# reg_grid.fit(X_train,y_train)\n",
    "\n",
    "reg = RandomForestRegressor(max_depth = 20, random_state=0,n_estimators = 70,verbose = 1)\n",
    "reg.fit(X_train,y_train)"
   ]
  },
  {
   "cell_type": "code",
   "execution_count": 31,
   "metadata": {
    "colab": {
     "base_uri": "https://localhost:8080/"
    },
    "id": "RbdsaFLqhAzk",
    "outputId": "adaf457d-fdac-4918-c66d-8433496ecd4d"
   },
   "outputs": [
    {
     "name": "stderr",
     "output_type": "stream",
     "text": [
      "[Parallel(n_jobs=1)]: Using backend SequentialBackend with 1 concurrent workers.\n",
      "[Parallel(n_jobs=1)]: Done  70 out of  70 | elapsed:    0.0s finished\n",
      "[Parallel(n_jobs=1)]: Using backend SequentialBackend with 1 concurrent workers.\n",
      "[Parallel(n_jobs=1)]: Done  70 out of  70 | elapsed:    0.1s finished\n"
     ]
    },
    {
     "data": {
      "text/plain": [
       "0.998806768110663"
      ]
     },
     "execution_count": 31,
     "metadata": {},
     "output_type": "execute_result"
    }
   ],
   "source": [
    "y_pred=reg.predict(X_test)\n",
    "reg.score(X_train,y_train) \n",
    "\n",
    "# y_pred=xgb_grid.predict(X_test)\n",
    "# xgb_grid.score(X_train,y_train) \n"
   ]
  },
  {
   "cell_type": "code",
   "execution_count": 33,
   "metadata": {
    "colab": {
     "base_uri": "https://localhost:8080/"
    },
    "id": "XkjAOXU4hhfb",
    "outputId": "66a4285f-174a-49cd-ac11-7f4786023b85"
   },
   "outputs": [],
   "source": [
    "# from sklearn.metrics import r2_score\n",
    "# rsquare=r2_score(y_test,y_pred)\n",
    "# rsquare"
   ]
  },
  {
   "cell_type": "code",
   "execution_count": 34,
   "metadata": {
    "colab": {
     "base_uri": "https://localhost:8080/"
    },
    "id": "_g6yrWgzhBDd",
    "outputId": "db64dca2-ed52-4e9f-9af0-68435417860d"
   },
   "outputs": [
    {
     "name": "stdout",
     "output_type": "stream",
     "text": [
      "RMSE :  120.105214\n"
     ]
    }
   ],
   "source": [
    "from sklearn.metrics import mean_squared_error as MSE\n",
    "import numpy as np\n",
    " \n",
    "rmse = np.sqrt(MSE(y_test,y_pred)) \n",
    "print(\"RMSE : % f\" %(rmse))\n",
    "\n"
   ]
  },
  {
   "cell_type": "code",
   "execution_count": 35,
   "metadata": {
    "colab": {
     "base_uri": "https://localhost:8080/"
    },
    "id": "6DyFocP4udON",
    "outputId": "bdffe35e-8bb2-496d-e351-afb6625dfb05"
   },
   "outputs": [
    {
     "name": "stderr",
     "output_type": "stream",
     "text": [
      "[Parallel(n_jobs=1)]: Using backend SequentialBackend with 1 concurrent workers.\n",
      "[Parallel(n_jobs=1)]: Done  70 out of  70 | elapsed:    0.0s finished\n"
     ]
    }
   ],
   "source": [
    "test_pred=reg.predict(test_data)\n",
    "# test_pred=xgb_grid.predict(test_data)\n",
    "\n",
    "# test_pred = np.abs(test_pred)\n"
   ]
  },
  {
   "cell_type": "code",
   "execution_count": 36,
   "metadata": {
    "colab": {
     "base_uri": "https://localhost:8080/",
     "height": 406
    },
    "id": "qCLaK0kmbpOs",
    "outputId": "a90e6734-0ac0-4eee-b6a7-5ea2edd8221e"
   },
   "outputs": [
    {
     "data": {
      "text/html": [
       "<div>\n",
       "<style scoped>\n",
       "    .dataframe tbody tr th:only-of-type {\n",
       "        vertical-align: middle;\n",
       "    }\n",
       "\n",
       "    .dataframe tbody tr th {\n",
       "        vertical-align: top;\n",
       "    }\n",
       "\n",
       "    .dataframe thead th {\n",
       "        text-align: right;\n",
       "    }\n",
       "</style>\n",
       "<table border=\"1\" class=\"dataframe\">\n",
       "  <thead>\n",
       "    <tr style=\"text-align: right;\">\n",
       "      <th></th>\n",
       "      <th>Product_id</th>\n",
       "      <th>Selling_Price</th>\n",
       "    </tr>\n",
       "  </thead>\n",
       "  <tbody>\n",
       "    <tr>\n",
       "      <th>0</th>\n",
       "      <td>SCHE4YSTDVPVZVXW</td>\n",
       "      <td>3262.107193</td>\n",
       "    </tr>\n",
       "    <tr>\n",
       "      <th>1</th>\n",
       "      <td>ACCEGCATKHNRXUHW</td>\n",
       "      <td>1920.948140</td>\n",
       "    </tr>\n",
       "    <tr>\n",
       "      <th>2</th>\n",
       "      <td>NKCE6GJ5XVJDXNNZ</td>\n",
       "      <td>11788.167354</td>\n",
       "    </tr>\n",
       "    <tr>\n",
       "      <th>3</th>\n",
       "      <td>NKCEB8BK3ZXDHDHM</td>\n",
       "      <td>9359.316570</td>\n",
       "    </tr>\n",
       "    <tr>\n",
       "      <th>4</th>\n",
       "      <td>TOPEFDXSAHRNPF94</td>\n",
       "      <td>5564.375231</td>\n",
       "    </tr>\n",
       "    <tr>\n",
       "      <th>...</th>\n",
       "      <td>...</td>\n",
       "      <td>...</td>\n",
       "    </tr>\n",
       "    <tr>\n",
       "      <th>3425</th>\n",
       "      <td>BBAE9K7BXFUTDNBK</td>\n",
       "      <td>3989.713965</td>\n",
       "    </tr>\n",
       "    <tr>\n",
       "      <th>3426</th>\n",
       "      <td>RTRDYPA4PJHCJCGF</td>\n",
       "      <td>8878.941577</td>\n",
       "    </tr>\n",
       "    <tr>\n",
       "      <th>3427</th>\n",
       "      <td>TUNE8FWQBS7TVVT7</td>\n",
       "      <td>6446.295454</td>\n",
       "    </tr>\n",
       "    <tr>\n",
       "      <th>3428</th>\n",
       "      <td>NKCEGMUABCRGUZPE</td>\n",
       "      <td>3558.088837</td>\n",
       "    </tr>\n",
       "    <tr>\n",
       "      <th>3429</th>\n",
       "      <td>RNGE7M92KAQWUBCS</td>\n",
       "      <td>1008.226374</td>\n",
       "    </tr>\n",
       "  </tbody>\n",
       "</table>\n",
       "<p>3430 rows × 2 columns</p>\n",
       "</div>"
      ],
      "text/plain": [
       "            Product_id  Selling_Price\n",
       "0     SCHE4YSTDVPVZVXW    3262.107193\n",
       "1     ACCEGCATKHNRXUHW    1920.948140\n",
       "2     NKCE6GJ5XVJDXNNZ   11788.167354\n",
       "3     NKCEB8BK3ZXDHDHM    9359.316570\n",
       "4     TOPEFDXSAHRNPF94    5564.375231\n",
       "...                ...            ...\n",
       "3425  BBAE9K7BXFUTDNBK    3989.713965\n",
       "3426  RTRDYPA4PJHCJCGF    8878.941577\n",
       "3427  TUNE8FWQBS7TVVT7    6446.295454\n",
       "3428  NKCEGMUABCRGUZPE    3558.088837\n",
       "3429  RNGE7M92KAQWUBCS    1008.226374\n",
       "\n",
       "[3430 rows x 2 columns]"
      ]
     },
     "execution_count": 36,
     "metadata": {},
     "output_type": "execute_result"
    }
   ],
   "source": [
    "final = pd.DataFrame({'Product_id':test_productid,'Selling_Price':test_pred})\n",
    "final\n",
    "# test_productid"
   ]
  },
  {
   "cell_type": "code",
   "execution_count": 37,
   "metadata": {
    "id": "HiA38JC7vbZ4"
   },
   "outputs": [],
   "source": [
    "final.to_csv('sub1.csv',index=False)"
   ]
  }
 ],
 "metadata": {
  "colab": {
   "collapsed_sections": [],
   "name": "Hackerearth Price Prediction.ipynb",
   "provenance": []
  },
  "kernelspec": {
   "display_name": "Python 3",
   "language": "python",
   "name": "python3"
  },
  "language_info": {
   "codemirror_mode": {
    "name": "ipython",
    "version": 3
   },
   "file_extension": ".py",
   "mimetype": "text/x-python",
   "name": "python",
   "nbconvert_exporter": "python",
   "pygments_lexer": "ipython3",
   "version": "3.7.7"
  },
  "toc": {
   "base_numbering": 1,
   "nav_menu": {},
   "number_sections": true,
   "sideBar": true,
   "skip_h1_title": false,
   "title_cell": "Table of Contents",
   "title_sidebar": "Contents",
   "toc_cell": false,
   "toc_position": {},
   "toc_section_display": true,
   "toc_window_display": false
  },
  "varInspector": {
   "cols": {
    "lenName": 16,
    "lenType": 16,
    "lenVar": 40
   },
   "kernels_config": {
    "python": {
     "delete_cmd_postfix": "",
     "delete_cmd_prefix": "del ",
     "library": "var_list.py",
     "varRefreshCmd": "print(var_dic_list())"
    },
    "r": {
     "delete_cmd_postfix": ") ",
     "delete_cmd_prefix": "rm(",
     "library": "var_list.r",
     "varRefreshCmd": "cat(var_dic_list()) "
    }
   },
   "types_to_exclude": [
    "module",
    "function",
    "builtin_function_or_method",
    "instance",
    "_Feature"
   ],
   "window_display": false
  }
 },
 "nbformat": 4,
 "nbformat_minor": 1
}
