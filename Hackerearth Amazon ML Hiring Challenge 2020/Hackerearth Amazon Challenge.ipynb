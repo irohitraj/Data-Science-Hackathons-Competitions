{
 "cells": [
  {
   "cell_type": "code",
   "execution_count": 3,
   "metadata": {
    "executionInfo": {
     "elapsed": 11107,
     "status": "ok",
     "timestamp": 1606806545174,
     "user": {
      "displayName": "Rohit raj",
      "photoUrl": "",
      "userId": "16409116861082602974"
     },
     "user_tz": -330
    },
    "id": "ZK8G5XuIGMOy"
   },
   "outputs": [],
   "source": [
    "import pandas as pd\n",
    "import numpy as np\n",
    "import matplotlib.pyplot as plt\n",
    "\n",
    "import warnings\n",
    "warnings.filterwarnings(\"ignore\", category= DeprecationWarning)\n",
    "\n",
    "from sklearn.linear_model import LogisticRegression\n",
    "from sklearn.model_selection import train_test_split\n",
    "from sklearn.metrics import classification_report\n",
    "import xgboost as xgb\n",
    "from sklearn.ensemble import GradientBoostingClassifier\n",
    "\n",
    "\n"
   ]
  },
  {
   "cell_type": "code",
   "execution_count": 29,
   "metadata": {
    "executionInfo": {
     "elapsed": 9858,
     "status": "ok",
     "timestamp": 1606806545176,
     "user": {
      "displayName": "Rohit raj",
      "photoUrl": "",
      "userId": "16409116861082602974"
     },
     "user_tz": -330
    },
    "id": "H_8x_c4xG_VX"
   },
   "outputs": [],
   "source": [
    "def read_data(train_data, test_data):\n",
    "\n",
    "  train_data = pd.read_csv(train_data)\n",
    "  test_data = pd.read_csv(test_data)\n",
    "\n",
    "  combine_df = train_data.append(test_data, ignore_index = True, sort = False)\n",
    "\n",
    "  return train_data,test_data,combine_df"
   ]
  },
  {
   "cell_type": "code",
   "execution_count": 30,
   "metadata": {
    "executionInfo": {
     "elapsed": 1270,
     "status": "ok",
     "timestamp": 1606807181770,
     "user": {
      "displayName": "Rohit raj",
      "photoUrl": "",
      "userId": "16409116861082602974"
     },
     "user_tz": -330
    },
    "id": "rcFqHKaPHGbK"
   },
   "outputs": [],
   "source": [
    "train_data,test_data,combine_df = read_data('train.csv','test.csv')"
   ]
  },
  {
   "cell_type": "code",
   "execution_count": 31,
   "metadata": {
    "colab": {
     "base_uri": "https://localhost:8080/",
     "height": 217
    },
    "executionInfo": {
     "elapsed": 1892,
     "status": "ok",
     "timestamp": 1606807182568,
     "user": {
      "displayName": "Rohit raj",
      "photoUrl": "",
      "userId": "16409116861082602974"
     },
     "user_tz": -330
    },
    "id": "l2A-HVKMHhln",
    "outputId": "06a42ee0-f8c9-4e95-e1d7-b15d3b5c7384"
   },
   "outputs": [
    {
     "data": {
      "text/html": [
       "<div>\n",
       "<style scoped>\n",
       "    .dataframe tbody tr th:only-of-type {\n",
       "        vertical-align: middle;\n",
       "    }\n",
       "\n",
       "    .dataframe tbody tr th {\n",
       "        vertical-align: top;\n",
       "    }\n",
       "\n",
       "    .dataframe thead th {\n",
       "        text-align: right;\n",
       "    }\n",
       "</style>\n",
       "<table border=\"1\" class=\"dataframe\">\n",
       "  <thead>\n",
       "    <tr style=\"text-align: right;\">\n",
       "      <th></th>\n",
       "      <th>customer_id</th>\n",
       "      <th>customer_visit_score</th>\n",
       "      <th>customer_product_search_score</th>\n",
       "      <th>customer_ctr_score</th>\n",
       "      <th>customer_stay_score</th>\n",
       "      <th>customer_frequency_score</th>\n",
       "      <th>customer_product_variation_score</th>\n",
       "      <th>customer_order_score</th>\n",
       "      <th>customer_affinity_score</th>\n",
       "      <th>customer_active_segment</th>\n",
       "      <th>X1</th>\n",
       "      <th>customer_category</th>\n",
       "    </tr>\n",
       "  </thead>\n",
       "  <tbody>\n",
       "    <tr>\n",
       "      <th>0</th>\n",
       "      <td>csid_1</td>\n",
       "      <td>13.168425</td>\n",
       "      <td>9.447662</td>\n",
       "      <td>-0.070203</td>\n",
       "      <td>-0.139541</td>\n",
       "      <td>0.436956</td>\n",
       "      <td>4.705761</td>\n",
       "      <td>2.537985</td>\n",
       "      <td>7.959503</td>\n",
       "      <td>C</td>\n",
       "      <td>F</td>\n",
       "      <td>0</td>\n",
       "    </tr>\n",
       "    <tr>\n",
       "      <th>1</th>\n",
       "      <td>csid_2</td>\n",
       "      <td>17.092979</td>\n",
       "      <td>7.329056</td>\n",
       "      <td>0.153298</td>\n",
       "      <td>-0.102726</td>\n",
       "      <td>0.380340</td>\n",
       "      <td>4.205138</td>\n",
       "      <td>4.193444</td>\n",
       "      <td>17.517381</td>\n",
       "      <td>C</td>\n",
       "      <td>A</td>\n",
       "      <td>0</td>\n",
       "    </tr>\n",
       "    <tr>\n",
       "      <th>2</th>\n",
       "      <td>csid_3</td>\n",
       "      <td>17.505334</td>\n",
       "      <td>5.143676</td>\n",
       "      <td>0.106709</td>\n",
       "      <td>0.262834</td>\n",
       "      <td>0.417648</td>\n",
       "      <td>4.479070</td>\n",
       "      <td>3.878971</td>\n",
       "      <td>12.595155</td>\n",
       "      <td>C</td>\n",
       "      <td>BA</td>\n",
       "      <td>0</td>\n",
       "    </tr>\n",
       "    <tr>\n",
       "      <th>3</th>\n",
       "      <td>csid_4</td>\n",
       "      <td>31.423381</td>\n",
       "      <td>4.917740</td>\n",
       "      <td>-0.020226</td>\n",
       "      <td>-0.100526</td>\n",
       "      <td>0.778130</td>\n",
       "      <td>5.055535</td>\n",
       "      <td>2.708940</td>\n",
       "      <td>4.795073</td>\n",
       "      <td>AA</td>\n",
       "      <td>F</td>\n",
       "      <td>0</td>\n",
       "    </tr>\n",
       "    <tr>\n",
       "      <th>4</th>\n",
       "      <td>csid_5</td>\n",
       "      <td>11.909502</td>\n",
       "      <td>4.237073</td>\n",
       "      <td>0.187178</td>\n",
       "      <td>0.172891</td>\n",
       "      <td>0.162067</td>\n",
       "      <td>3.445247</td>\n",
       "      <td>3.677360</td>\n",
       "      <td>56.636326</td>\n",
       "      <td>C</td>\n",
       "      <td>AA</td>\n",
       "      <td>0</td>\n",
       "    </tr>\n",
       "  </tbody>\n",
       "</table>\n",
       "</div>"
      ],
      "text/plain": [
       "  customer_id  customer_visit_score  customer_product_search_score  \\\n",
       "0      csid_1             13.168425                       9.447662   \n",
       "1      csid_2             17.092979                       7.329056   \n",
       "2      csid_3             17.505334                       5.143676   \n",
       "3      csid_4             31.423381                       4.917740   \n",
       "4      csid_5             11.909502                       4.237073   \n",
       "\n",
       "   customer_ctr_score  customer_stay_score  customer_frequency_score  \\\n",
       "0           -0.070203            -0.139541                  0.436956   \n",
       "1            0.153298            -0.102726                  0.380340   \n",
       "2            0.106709             0.262834                  0.417648   \n",
       "3           -0.020226            -0.100526                  0.778130   \n",
       "4            0.187178             0.172891                  0.162067   \n",
       "\n",
       "   customer_product_variation_score  customer_order_score  \\\n",
       "0                          4.705761              2.537985   \n",
       "1                          4.205138              4.193444   \n",
       "2                          4.479070              3.878971   \n",
       "3                          5.055535              2.708940   \n",
       "4                          3.445247              3.677360   \n",
       "\n",
       "   customer_affinity_score customer_active_segment  X1  customer_category  \n",
       "0                 7.959503                       C   F                  0  \n",
       "1                17.517381                       C   A                  0  \n",
       "2                12.595155                       C  BA                  0  \n",
       "3                 4.795073                      AA   F                  0  \n",
       "4                56.636326                       C  AA                  0  "
      ]
     },
     "execution_count": 31,
     "metadata": {},
     "output_type": "execute_result"
    }
   ],
   "source": [
    "train_data.head()"
   ]
  },
  {
   "cell_type": "code",
   "execution_count": 32,
   "metadata": {
    "colab": {
     "base_uri": "https://localhost:8080/"
    },
    "executionInfo": {
     "elapsed": 1728,
     "status": "ok",
     "timestamp": 1606807182569,
     "user": {
      "displayName": "Rohit raj",
      "photoUrl": "",
      "userId": "16409116861082602974"
     },
     "user_tz": -330
    },
    "id": "dkpL7gqwHkfW",
    "outputId": "08920165-2952-4caf-d314-94847e41d75a"
   },
   "outputs": [
    {
     "data": {
      "text/plain": [
       "customer_id                          0\n",
       "customer_visit_score                 0\n",
       "customer_product_search_score       42\n",
       "customer_ctr_score                   0\n",
       "customer_stay_score                 37\n",
       "customer_frequency_score             0\n",
       "customer_product_variation_score    46\n",
       "customer_order_score                66\n",
       "customer_affinity_score              0\n",
       "customer_active_segment             23\n",
       "X1                                  37\n",
       "customer_category                    0\n",
       "dtype: int64"
      ]
     },
     "execution_count": 32,
     "metadata": {},
     "output_type": "execute_result"
    }
   ],
   "source": [
    "# train_data.info()\n",
    "train_data.isnull().sum()\n",
    "# for col in train_data.columns:\n",
    "#   print(train_data[col].value_counts())"
   ]
  },
  {
   "cell_type": "code",
   "execution_count": 33,
   "metadata": {
    "colab": {
     "base_uri": "https://localhost:8080/",
     "height": 973
    },
    "executionInfo": {
     "elapsed": 1574,
     "status": "ok",
     "timestamp": 1606807182570,
     "user": {
      "displayName": "Rohit raj",
      "photoUrl": "",
      "userId": "16409116861082602974"
     },
     "user_tz": -330
    },
    "id": "TWWmRC1t4M_M",
    "outputId": "0e34a600-6449-4a46-d5fa-ec7055e4992d"
   },
   "outputs": [
    {
     "data": {
      "image/png": "[encoded data removed]",
      "text/plain": [
       "<Figure size 1440x360 with 1 Axes>"
      ]
     },
     "metadata": {
      "needs_background": "light"
     },
     "output_type": "display_data"
    },
    {
     "data": {
      "image/png": "[encoded data removed]",
      "text/plain": [
       "<Figure size 1440x360 with 1 Axes>"
      ]
     },
     "metadata": {
      "needs_background": "light"
     },
     "output_type": "display_data"
    },
    {
     "data": {
      "image/png": "[encoded data removed]",
      "text/plain": [
       "<Figure size 1440x360 with 1 Axes>"
      ]
     },
     "metadata": {
      "needs_background": "light"
     },
     "output_type": "display_data"
    }
   ],
   "source": [
    "# train_data.pet_category.value_counts().plot(by='breed_category' ,kind='bar')\n",
    "# train_data.breed_category.value_counts().plot(kind='bar')\n",
    "cols = train_data.columns\n",
    "\n",
    "# cols\n",
    "for col in cols[9:]:\n",
    "  plt.figure(figsize=(20,5))\n",
    "  train_data[col].value_counts().plot(kind='bar')\n",
    "  plt.xlabel(col)\n",
    "  plt.show()\n",
    "\n",
    "\n",
    "# train_data.hist(column='pet_category',by='breed_category')\n"
   ]
  },
  {
   "cell_type": "code",
   "execution_count": 34,
   "metadata": {
    "colab": {
     "base_uri": "https://localhost:8080/"
    },
    "executionInfo": {
     "elapsed": 1396,
     "status": "ok",
     "timestamp": 1606807182573,
     "user": {
      "displayName": "Rohit raj",
      "photoUrl": "",
      "userId": "16409116861082602974"
     },
     "user_tz": -330
    },
    "id": "IsIT69GYvzDJ",
    "outputId": "b435ca07-c8fd-4890-d48e-c4f091208395"
   },
   "outputs": [
    {
     "data": {
      "text/plain": [
       "customer_id                          0\n",
       "customer_visit_score                 0\n",
       "customer_product_search_score       29\n",
       "customer_ctr_score                   0\n",
       "customer_stay_score                 16\n",
       "customer_frequency_score             0\n",
       "customer_product_variation_score    43\n",
       "customer_order_score                41\n",
       "customer_affinity_score              0\n",
       "customer_active_segment             12\n",
       "X1                                  25\n",
       "dtype: int64"
      ]
     },
     "execution_count": 34,
     "metadata": {},
     "output_type": "execute_result"
    }
   ],
   "source": [
    "# test_data.info()\n",
    "test_data.isnull().sum()\n"
   ]
  },
  {
   "cell_type": "code",
   "execution_count": 35,
   "metadata": {
    "colab": {
     "base_uri": "https://localhost:8080/",
     "height": 660
    },
    "executionInfo": {
     "elapsed": 1978,
     "status": "ok",
     "timestamp": 1606807183325,
     "user": {
      "displayName": "Rohit raj",
      "photoUrl": "",
      "userId": "16409116861082602974"
     },
     "user_tz": -330
    },
    "id": "rDzCDoyUQDEK",
    "outputId": "bc1df538-cbb3-480a-9ff1-bb3fd478e4f1"
   },
   "outputs": [
    {
     "data": {
      "image/png": "[encoded data removed]",
      "text/plain": [
       "<Figure size 1440x360 with 1 Axes>"
      ]
     },
     "metadata": {
      "needs_background": "light"
     },
     "output_type": "display_data"
    },
    {
     "data": {
      "image/png": "[encoded data removed]",
      "text/plain": [
       "<Figure size 1440x360 with 1 Axes>"
      ]
     },
     "metadata": {
      "needs_background": "light"
     },
     "output_type": "display_data"
    }
   ],
   "source": [
    "cols = test_data.columns\n",
    "\n",
    "# cols\n",
    "for col in cols[9:]:\n",
    "  plt.figure(figsize=(20,5))\n",
    "  test_data[col].value_counts().plot(kind='bar')\n",
    "  plt.xlabel(col)\n",
    "  plt.show()"
   ]
  },
  {
   "cell_type": "code",
   "execution_count": 36,
   "metadata": {
    "colab": {
     "base_uri": "https://localhost:8080/"
    },
    "executionInfo": {
     "elapsed": 1808,
     "status": "ok",
     "timestamp": 1606807183327,
     "user": {
      "displayName": "Rohit raj",
      "photoUrl": "",
      "userId": "16409116861082602974"
     },
     "user_tz": -330
    },
    "id": "0xc7e7fCHoMj",
    "outputId": "dd3e562f-ec45-40a9-f6a5-19b63b4f01cd"
   },
   "outputs": [
    {
     "data": {
      "text/plain": [
       "Index(['customer_visit_score', 'customer_product_search_score',\n",
       "       'customer_ctr_score', 'customer_stay_score', 'customer_frequency_score',\n",
       "       'customer_product_variation_score', 'customer_order_score',\n",
       "       'customer_affinity_score', 'customer_category'],\n",
       "      dtype='object')"
      ]
     },
     "execution_count": 36,
     "metadata": {},
     "output_type": "execute_result"
    }
   ],
   "source": [
    "train_data.select_dtypes('number').columns"
   ]
  },
  {
   "cell_type": "code",
   "execution_count": 37,
   "metadata": {
    "colab": {
     "base_uri": "https://localhost:8080/"
    },
    "executionInfo": {
     "elapsed": 1630,
     "status": "ok",
     "timestamp": 1606807183328,
     "user": {
      "displayName": "Rohit raj",
      "photoUrl": "",
      "userId": "16409116861082602974"
     },
     "user_tz": -330
    },
    "id": "RvgAebzdJmsf",
    "outputId": "19e435c7-c703-4024-d60c-0043dd385bd8"
   },
   "outputs": [
    {
     "data": {
      "text/plain": [
       "Index(['customer_id', 'customer_active_segment', 'X1'], dtype='object')"
      ]
     },
     "execution_count": 37,
     "metadata": {},
     "output_type": "execute_result"
    }
   ],
   "source": [
    "train_data.select_dtypes('object').columns"
   ]
  },
  {
   "cell_type": "code",
   "execution_count": 38,
   "metadata": {
    "colab": {
     "base_uri": "https://localhost:8080/"
    },
    "executionInfo": {
     "elapsed": 1452,
     "status": "ok",
     "timestamp": 1606807183330,
     "user": {
      "displayName": "Rohit raj",
      "photoUrl": "",
      "userId": "16409116861082602974"
     },
     "user_tz": -330
    },
    "id": "1QTIWMRoKl2p",
    "outputId": "20ee2d44-016b-4016-f692-b2d207d51bc1"
   },
   "outputs": [
    {
     "data": {
      "text/plain": [
       "(10738, 12)"
      ]
     },
     "execution_count": 38,
     "metadata": {},
     "output_type": "execute_result"
    }
   ],
   "source": [
    "train_data.shape\n",
    "\n",
    "# train_data.isnull().sum()"
   ]
  },
  {
   "cell_type": "code",
   "execution_count": 39,
   "metadata": {
    "executionInfo": {
     "elapsed": 1233,
     "status": "ok",
     "timestamp": 1606807183331,
     "user": {
      "displayName": "Rohit raj",
      "photoUrl": "",
      "userId": "16409116861082602974"
     },
     "user_tz": -330
    },
    "id": "lUgboHMzSW6s"
   },
   "outputs": [],
   "source": [
    "from sklearn.preprocessing import LabelEncoder\n",
    "def preprocessing(df,df_test):\n",
    "\n",
    "  le = LabelEncoder()\n",
    "\n",
    "#   df.customer_product_search_score.fillna(df.customer_product_search_score.median(),inplace = True)\n",
    "#   df.customer_stay_score.fillna(df.customer_stay_score.median(),inplace = True)\n",
    "#   df.customer_product_variation_score.fillna(df.customer_product_variation_score.median(),inplace = True)\n",
    "#   df.customer_order_score.fillna(df.customer_order_score.median(),inplace = True)\n",
    "#   df.customer_active_segment.fillna('C',inplace = True)\n",
    "#   df.X1.fillna('BA',inplace = True)\n",
    "  df.dropna(how='any',inplace=True)\n",
    "\n",
    "\n",
    "  df_test.customer_product_search_score.fillna(df_test.customer_product_search_score.median(),inplace = True)\n",
    "  df_test.customer_stay_score.fillna(df_test.customer_stay_score.median(),inplace = True)\n",
    "  df_test.customer_product_variation_score.fillna(df_test.customer_product_variation_score.median(),inplace = True)\n",
    "  df_test.customer_order_score.fillna(df_test.customer_order_score.median(),inplace = True)\n",
    "  df_test.customer_active_segment.fillna('C',inplace = True)\n",
    "  df_test.X1.fillna('BA',inplace = True)\n",
    "\n",
    "\n",
    "  active_seg=pd.get_dummies(df[['customer_active_segment']])\n",
    "  df = pd.concat([df,active_seg],axis=1)\n",
    "\n",
    "\n",
    "  x1=pd.get_dummies(df[['X1']])\n",
    "  df = pd.concat([df,x1],axis=1)\n",
    "\n",
    "\n",
    "\n",
    "  test_active_seg=pd.get_dummies(df_test[['customer_active_segment']])\n",
    "  df_test = pd.concat([df_test,test_active_seg],axis=1)\n",
    "\n",
    "\n",
    "  test_x1=pd.get_dummies(df_test[['X1']])\n",
    "  df_test = pd.concat([df_test,test_x1],axis=1)\n",
    "\n",
    "  print(\"Nulls in each column:\", df.isnull().sum())\n",
    "\n",
    "  df = df.drop(columns = ['customer_active_segment','X1'],inplace = False)\n",
    "  df_test = df_test.drop(columns = ['customer_active_segment','X1'],inplace = False)\n",
    "\n",
    "\n",
    "  return df,df_test\n"
   ]
  },
  {
   "cell_type": "code",
   "execution_count": 40,
   "metadata": {
    "colab": {
     "base_uri": "https://localhost:8080/"
    },
    "executionInfo": {
     "elapsed": 1069,
     "status": "ok",
     "timestamp": 1606807183332,
     "user": {
      "displayName": "Rohit raj",
      "photoUrl": "",
      "userId": "16409116861082602974"
     },
     "user_tz": -330
    },
    "id": "uxisA-EWNV_1",
    "outputId": "109cf618-6f7d-4be3-f9dd-27ea233f2f6a"
   },
   "outputs": [
    {
     "name": "stdout",
     "output_type": "stream",
     "text": [
      "Nulls in each column: customer_id                         0\n",
      "customer_visit_score                0\n",
      "customer_product_search_score       0\n",
      "customer_ctr_score                  0\n",
      "customer_stay_score                 0\n",
      "customer_frequency_score            0\n",
      "customer_product_variation_score    0\n",
      "customer_order_score                0\n",
      "customer_affinity_score             0\n",
      "customer_active_segment             0\n",
      "X1                                  0\n",
      "customer_category                   0\n",
      "customer_active_segment_A           0\n",
      "customer_active_segment_AA          0\n",
      "customer_active_segment_B           0\n",
      "customer_active_segment_C           0\n",
      "customer_active_segment_D           0\n",
      "X1_A                                0\n",
      "X1_AA                               0\n",
      "X1_BA                               0\n",
      "X1_E                                0\n",
      "X1_F                                0\n",
      "dtype: int64\n"
     ]
    }
   ],
   "source": [
    "train_data,test_data = preprocessing(train_data,test_data)\n",
    "# test_data = test_preprocessing(test_data)"
   ]
  },
  {
   "cell_type": "code",
   "execution_count": 41,
   "metadata": {
    "colab": {
     "base_uri": "https://localhost:8080/",
     "height": 217
    },
    "executionInfo": {
     "elapsed": 1334,
     "status": "ok",
     "timestamp": 1606807183755,
     "user": {
      "displayName": "Rohit raj",
      "photoUrl": "",
      "userId": "16409116861082602974"
     },
     "user_tz": -330
    },
    "id": "-JIgtq54V_8l",
    "outputId": "509f188e-8a9f-49d9-8be7-188c3384e10f"
   },
   "outputs": [
    {
     "data": {
      "text/html": [
       "<div>\n",
       "<style scoped>\n",
       "    .dataframe tbody tr th:only-of-type {\n",
       "        vertical-align: middle;\n",
       "    }\n",
       "\n",
       "    .dataframe tbody tr th {\n",
       "        vertical-align: top;\n",
       "    }\n",
       "\n",
       "    .dataframe thead th {\n",
       "        text-align: right;\n",
       "    }\n",
       "</style>\n",
       "<table border=\"1\" class=\"dataframe\">\n",
       "  <thead>\n",
       "    <tr style=\"text-align: right;\">\n",
       "      <th></th>\n",
       "      <th>customer_id</th>\n",
       "      <th>customer_visit_score</th>\n",
       "      <th>customer_product_search_score</th>\n",
       "      <th>customer_ctr_score</th>\n",
       "      <th>customer_stay_score</th>\n",
       "      <th>customer_frequency_score</th>\n",
       "      <th>customer_product_variation_score</th>\n",
       "      <th>customer_order_score</th>\n",
       "      <th>customer_affinity_score</th>\n",
       "      <th>customer_category</th>\n",
       "      <th>customer_active_segment_A</th>\n",
       "      <th>customer_active_segment_AA</th>\n",
       "      <th>customer_active_segment_B</th>\n",
       "      <th>customer_active_segment_C</th>\n",
       "      <th>customer_active_segment_D</th>\n",
       "      <th>X1_A</th>\n",
       "      <th>X1_AA</th>\n",
       "      <th>X1_BA</th>\n",
       "      <th>X1_E</th>\n",
       "      <th>X1_F</th>\n",
       "    </tr>\n",
       "  </thead>\n",
       "  <tbody>\n",
       "    <tr>\n",
       "      <th>0</th>\n",
       "      <td>csid_1</td>\n",
       "      <td>13.168425</td>\n",
       "      <td>9.447662</td>\n",
       "      <td>-0.070203</td>\n",
       "      <td>-0.139541</td>\n",
       "      <td>0.436956</td>\n",
       "      <td>4.705761</td>\n",
       "      <td>2.537985</td>\n",
       "      <td>7.959503</td>\n",
       "      <td>0</td>\n",
       "      <td>0</td>\n",
       "      <td>0</td>\n",
       "      <td>0</td>\n",
       "      <td>1</td>\n",
       "      <td>0</td>\n",
       "      <td>0</td>\n",
       "      <td>0</td>\n",
       "      <td>0</td>\n",
       "      <td>0</td>\n",
       "      <td>1</td>\n",
       "    </tr>\n",
       "    <tr>\n",
       "      <th>1</th>\n",
       "      <td>csid_2</td>\n",
       "      <td>17.092979</td>\n",
       "      <td>7.329056</td>\n",
       "      <td>0.153298</td>\n",
       "      <td>-0.102726</td>\n",
       "      <td>0.380340</td>\n",
       "      <td>4.205138</td>\n",
       "      <td>4.193444</td>\n",
       "      <td>17.517381</td>\n",
       "      <td>0</td>\n",
       "      <td>0</td>\n",
       "      <td>0</td>\n",
       "      <td>0</td>\n",
       "      <td>1</td>\n",
       "      <td>0</td>\n",
       "      <td>1</td>\n",
       "      <td>0</td>\n",
       "      <td>0</td>\n",
       "      <td>0</td>\n",
       "      <td>0</td>\n",
       "    </tr>\n",
       "    <tr>\n",
       "      <th>2</th>\n",
       "      <td>csid_3</td>\n",
       "      <td>17.505334</td>\n",
       "      <td>5.143676</td>\n",
       "      <td>0.106709</td>\n",
       "      <td>0.262834</td>\n",
       "      <td>0.417648</td>\n",
       "      <td>4.479070</td>\n",
       "      <td>3.878971</td>\n",
       "      <td>12.595155</td>\n",
       "      <td>0</td>\n",
       "      <td>0</td>\n",
       "      <td>0</td>\n",
       "      <td>0</td>\n",
       "      <td>1</td>\n",
       "      <td>0</td>\n",
       "      <td>0</td>\n",
       "      <td>0</td>\n",
       "      <td>1</td>\n",
       "      <td>0</td>\n",
       "      <td>0</td>\n",
       "    </tr>\n",
       "    <tr>\n",
       "      <th>3</th>\n",
       "      <td>csid_4</td>\n",
       "      <td>31.423381</td>\n",
       "      <td>4.917740</td>\n",
       "      <td>-0.020226</td>\n",
       "      <td>-0.100526</td>\n",
       "      <td>0.778130</td>\n",
       "      <td>5.055535</td>\n",
       "      <td>2.708940</td>\n",
       "      <td>4.795073</td>\n",
       "      <td>0</td>\n",
       "      <td>0</td>\n",
       "      <td>1</td>\n",
       "      <td>0</td>\n",
       "      <td>0</td>\n",
       "      <td>0</td>\n",
       "      <td>0</td>\n",
       "      <td>0</td>\n",
       "      <td>0</td>\n",
       "      <td>0</td>\n",
       "      <td>1</td>\n",
       "    </tr>\n",
       "    <tr>\n",
       "      <th>4</th>\n",
       "      <td>csid_5</td>\n",
       "      <td>11.909502</td>\n",
       "      <td>4.237073</td>\n",
       "      <td>0.187178</td>\n",
       "      <td>0.172891</td>\n",
       "      <td>0.162067</td>\n",
       "      <td>3.445247</td>\n",
       "      <td>3.677360</td>\n",
       "      <td>56.636326</td>\n",
       "      <td>0</td>\n",
       "      <td>0</td>\n",
       "      <td>0</td>\n",
       "      <td>0</td>\n",
       "      <td>1</td>\n",
       "      <td>0</td>\n",
       "      <td>0</td>\n",
       "      <td>1</td>\n",
       "      <td>0</td>\n",
       "      <td>0</td>\n",
       "      <td>0</td>\n",
       "    </tr>\n",
       "  </tbody>\n",
       "</table>\n",
       "</div>"
      ],
      "text/plain": [
       "  customer_id  customer_visit_score  customer_product_search_score  \\\n",
       "0      csid_1             13.168425                       9.447662   \n",
       "1      csid_2             17.092979                       7.329056   \n",
       "2      csid_3             17.505334                       5.143676   \n",
       "3      csid_4             31.423381                       4.917740   \n",
       "4      csid_5             11.909502                       4.237073   \n",
       "\n",
       "   customer_ctr_score  customer_stay_score  customer_frequency_score  \\\n",
       "0           -0.070203            -0.139541                  0.436956   \n",
       "1            0.153298            -0.102726                  0.380340   \n",
       "2            0.106709             0.262834                  0.417648   \n",
       "3           -0.020226            -0.100526                  0.778130   \n",
       "4            0.187178             0.172891                  0.162067   \n",
       "\n",
       "   customer_product_variation_score  customer_order_score  \\\n",
       "0                          4.705761              2.537985   \n",
       "1                          4.205138              4.193444   \n",
       "2                          4.479070              3.878971   \n",
       "3                          5.055535              2.708940   \n",
       "4                          3.445247              3.677360   \n",
       "\n",
       "   customer_affinity_score  customer_category  customer_active_segment_A  \\\n",
       "0                 7.959503                  0                          0   \n",
       "1                17.517381                  0                          0   \n",
       "2                12.595155                  0                          0   \n",
       "3                 4.795073                  0                          0   \n",
       "4                56.636326                  0                          0   \n",
       "\n",
       "   customer_active_segment_AA  customer_active_segment_B  \\\n",
       "0                           0                          0   \n",
       "1                           0                          0   \n",
       "2                           0                          0   \n",
       "3                           1                          0   \n",
       "4                           0                          0   \n",
       "\n",
       "   customer_active_segment_C  customer_active_segment_D  X1_A  X1_AA  X1_BA  \\\n",
       "0                          1                          0     0      0      0   \n",
       "1                          1                          0     1      0      0   \n",
       "2                          1                          0     0      0      1   \n",
       "3                          0                          0     0      0      0   \n",
       "4                          1                          0     0      1      0   \n",
       "\n",
       "   X1_E  X1_F  \n",
       "0     0     1  \n",
       "1     0     0  \n",
       "2     0     0  \n",
       "3     0     1  \n",
       "4     0     0  "
      ]
     },
     "execution_count": 41,
     "metadata": {},
     "output_type": "execute_result"
    }
   ],
   "source": [
    "train_data.head()"
   ]
  },
  {
   "cell_type": "code",
   "execution_count": 42,
   "metadata": {
    "colab": {
     "base_uri": "https://localhost:8080/",
     "height": 217
    },
    "executionInfo": {
     "elapsed": 1108,
     "status": "ok",
     "timestamp": 1606807183757,
     "user": {
      "displayName": "Rohit raj",
      "photoUrl": "",
      "userId": "16409116861082602974"
     },
     "user_tz": -330
    },
    "id": "1W08w1g_schQ",
    "outputId": "bb0bd827-762f-4ec6-cb81-73b12fd9db6d"
   },
   "outputs": [
    {
     "data": {
      "text/html": [
       "<div>\n",
       "<style scoped>\n",
       "    .dataframe tbody tr th:only-of-type {\n",
       "        vertical-align: middle;\n",
       "    }\n",
       "\n",
       "    .dataframe tbody tr th {\n",
       "        vertical-align: top;\n",
       "    }\n",
       "\n",
       "    .dataframe thead th {\n",
       "        text-align: right;\n",
       "    }\n",
       "</style>\n",
       "<table border=\"1\" class=\"dataframe\">\n",
       "  <thead>\n",
       "    <tr style=\"text-align: right;\">\n",
       "      <th></th>\n",
       "      <th>customer_id</th>\n",
       "      <th>customer_visit_score</th>\n",
       "      <th>customer_product_search_score</th>\n",
       "      <th>customer_ctr_score</th>\n",
       "      <th>customer_stay_score</th>\n",
       "      <th>customer_frequency_score</th>\n",
       "      <th>customer_product_variation_score</th>\n",
       "      <th>customer_order_score</th>\n",
       "      <th>customer_affinity_score</th>\n",
       "      <th>customer_active_segment_A</th>\n",
       "      <th>customer_active_segment_AA</th>\n",
       "      <th>customer_active_segment_B</th>\n",
       "      <th>customer_active_segment_C</th>\n",
       "      <th>customer_active_segment_D</th>\n",
       "      <th>X1_A</th>\n",
       "      <th>X1_AA</th>\n",
       "      <th>X1_BA</th>\n",
       "      <th>X1_E</th>\n",
       "      <th>X1_F</th>\n",
       "    </tr>\n",
       "  </thead>\n",
       "  <tbody>\n",
       "    <tr>\n",
       "      <th>0</th>\n",
       "      <td>csid_10739</td>\n",
       "      <td>22.500174</td>\n",
       "      <td>3.702145</td>\n",
       "      <td>0.118811</td>\n",
       "      <td>0.093253</td>\n",
       "      <td>0.689237</td>\n",
       "      <td>5.786842</td>\n",
       "      <td>3.748009</td>\n",
       "      <td>7.661716</td>\n",
       "      <td>0</td>\n",
       "      <td>0</td>\n",
       "      <td>1</td>\n",
       "      <td>0</td>\n",
       "      <td>0</td>\n",
       "      <td>0</td>\n",
       "      <td>0</td>\n",
       "      <td>1</td>\n",
       "      <td>0</td>\n",
       "      <td>0</td>\n",
       "    </tr>\n",
       "    <tr>\n",
       "      <th>1</th>\n",
       "      <td>csid_10740</td>\n",
       "      <td>13.225950</td>\n",
       "      <td>3.600102</td>\n",
       "      <td>0.130985</td>\n",
       "      <td>0.053575</td>\n",
       "      <td>0.142756</td>\n",
       "      <td>3.940359</td>\n",
       "      <td>3.469659</td>\n",
       "      <td>33.999679</td>\n",
       "      <td>0</td>\n",
       "      <td>0</td>\n",
       "      <td>1</td>\n",
       "      <td>0</td>\n",
       "      <td>0</td>\n",
       "      <td>0</td>\n",
       "      <td>1</td>\n",
       "      <td>0</td>\n",
       "      <td>0</td>\n",
       "      <td>0</td>\n",
       "    </tr>\n",
       "    <tr>\n",
       "      <th>2</th>\n",
       "      <td>csid_10741</td>\n",
       "      <td>14.603376</td>\n",
       "      <td>5.084047</td>\n",
       "      <td>-0.004651</td>\n",
       "      <td>-0.036299</td>\n",
       "      <td>0.333709</td>\n",
       "      <td>4.254662</td>\n",
       "      <td>3.855939</td>\n",
       "      <td>33.485630</td>\n",
       "      <td>0</td>\n",
       "      <td>0</td>\n",
       "      <td>1</td>\n",
       "      <td>0</td>\n",
       "      <td>0</td>\n",
       "      <td>0</td>\n",
       "      <td>1</td>\n",
       "      <td>0</td>\n",
       "      <td>0</td>\n",
       "      <td>0</td>\n",
       "    </tr>\n",
       "    <tr>\n",
       "      <th>3</th>\n",
       "      <td>csid_10742</td>\n",
       "      <td>26.149905</td>\n",
       "      <td>3.025501</td>\n",
       "      <td>0.229740</td>\n",
       "      <td>0.204591</td>\n",
       "      <td>3.768405</td>\n",
       "      <td>6.942625</td>\n",
       "      <td>2.362421</td>\n",
       "      <td>0.795372</td>\n",
       "      <td>0</td>\n",
       "      <td>0</td>\n",
       "      <td>1</td>\n",
       "      <td>0</td>\n",
       "      <td>0</td>\n",
       "      <td>0</td>\n",
       "      <td>0</td>\n",
       "      <td>1</td>\n",
       "      <td>0</td>\n",
       "      <td>0</td>\n",
       "    </tr>\n",
       "    <tr>\n",
       "      <th>4</th>\n",
       "      <td>csid_10743</td>\n",
       "      <td>19.810630</td>\n",
       "      <td>5.020400</td>\n",
       "      <td>-0.011347</td>\n",
       "      <td>-0.028780</td>\n",
       "      <td>0.286841</td>\n",
       "      <td>4.585513</td>\n",
       "      <td>3.278624</td>\n",
       "      <td>15.052058</td>\n",
       "      <td>0</td>\n",
       "      <td>0</td>\n",
       "      <td>0</td>\n",
       "      <td>1</td>\n",
       "      <td>0</td>\n",
       "      <td>0</td>\n",
       "      <td>0</td>\n",
       "      <td>1</td>\n",
       "      <td>0</td>\n",
       "      <td>0</td>\n",
       "    </tr>\n",
       "  </tbody>\n",
       "</table>\n",
       "</div>"
      ],
      "text/plain": [
       "  customer_id  customer_visit_score  customer_product_search_score  \\\n",
       "0  csid_10739             22.500174                       3.702145   \n",
       "1  csid_10740             13.225950                       3.600102   \n",
       "2  csid_10741             14.603376                       5.084047   \n",
       "3  csid_10742             26.149905                       3.025501   \n",
       "4  csid_10743             19.810630                       5.020400   \n",
       "\n",
       "   customer_ctr_score  customer_stay_score  customer_frequency_score  \\\n",
       "0            0.118811             0.093253                  0.689237   \n",
       "1            0.130985             0.053575                  0.142756   \n",
       "2           -0.004651            -0.036299                  0.333709   \n",
       "3            0.229740             0.204591                  3.768405   \n",
       "4           -0.011347            -0.028780                  0.286841   \n",
       "\n",
       "   customer_product_variation_score  customer_order_score  \\\n",
       "0                          5.786842              3.748009   \n",
       "1                          3.940359              3.469659   \n",
       "2                          4.254662              3.855939   \n",
       "3                          6.942625              2.362421   \n",
       "4                          4.585513              3.278624   \n",
       "\n",
       "   customer_affinity_score  customer_active_segment_A  \\\n",
       "0                 7.661716                          0   \n",
       "1                33.999679                          0   \n",
       "2                33.485630                          0   \n",
       "3                 0.795372                          0   \n",
       "4                15.052058                          0   \n",
       "\n",
       "   customer_active_segment_AA  customer_active_segment_B  \\\n",
       "0                           0                          1   \n",
       "1                           0                          1   \n",
       "2                           0                          1   \n",
       "3                           0                          1   \n",
       "4                           0                          0   \n",
       "\n",
       "   customer_active_segment_C  customer_active_segment_D  X1_A  X1_AA  X1_BA  \\\n",
       "0                          0                          0     0      0      1   \n",
       "1                          0                          0     0      1      0   \n",
       "2                          0                          0     0      1      0   \n",
       "3                          0                          0     0      0      1   \n",
       "4                          1                          0     0      0      1   \n",
       "\n",
       "   X1_E  X1_F  \n",
       "0     0     0  \n",
       "1     0     0  \n",
       "2     0     0  \n",
       "3     0     0  \n",
       "4     0     0  "
      ]
     },
     "execution_count": 42,
     "metadata": {},
     "output_type": "execute_result"
    }
   ],
   "source": [
    "test_data.head()"
   ]
  },
  {
   "cell_type": "code",
   "execution_count": 43,
   "metadata": {
    "executionInfo": {
     "elapsed": 890,
     "status": "ok",
     "timestamp": 1606807183759,
     "user": {
      "displayName": "Rohit raj",
      "photoUrl": "",
      "userId": "16409116861082602974"
     },
     "user_tz": -330
    },
    "id": "tcW1V1FyNuHr"
   },
   "outputs": [],
   "source": [
    "from sklearn.tree import DecisionTreeClassifier\n",
    "# y = train_data[['breed_category','pet_category']]\n",
    "y = train_data[['customer_category']]\n",
    "\n",
    "x = train_data.drop(columns=['customer_category'],inplace=True)\n"
   ]
  },
  {
   "cell_type": "code",
   "execution_count": 44,
   "metadata": {
    "executionInfo": {
     "elapsed": 1221,
     "status": "ok",
     "timestamp": 1606807184789,
     "user": {
      "displayName": "Rohit raj",
      "photoUrl": "",
      "userId": "16409116861082602974"
     },
     "user_tz": -330
    },
    "id": "HX6eIghER7V3"
   },
   "outputs": [],
   "source": [
    "x = train_data.drop(columns=['customer_id'])"
   ]
  },
  {
   "cell_type": "code",
   "execution_count": 45,
   "metadata": {
    "colab": {
     "base_uri": "https://localhost:8080/",
     "height": 217
    },
    "executionInfo": {
     "elapsed": 1108,
     "status": "ok",
     "timestamp": 1606807185219,
     "user": {
      "displayName": "Rohit raj",
      "photoUrl": "",
      "userId": "16409116861082602974"
     },
     "user_tz": -330
    },
    "id": "tPZz53Shc3D3",
    "outputId": "6a338ce7-6032-49f7-d8dc-08b3cab9a822"
   },
   "outputs": [
    {
     "data": {
      "text/html": [
       "<div>\n",
       "<style scoped>\n",
       "    .dataframe tbody tr th:only-of-type {\n",
       "        vertical-align: middle;\n",
       "    }\n",
       "\n",
       "    .dataframe tbody tr th {\n",
       "        vertical-align: top;\n",
       "    }\n",
       "\n",
       "    .dataframe thead th {\n",
       "        text-align: right;\n",
       "    }\n",
       "</style>\n",
       "<table border=\"1\" class=\"dataframe\">\n",
       "  <thead>\n",
       "    <tr style=\"text-align: right;\">\n",
       "      <th></th>\n",
       "      <th>customer_visit_score</th>\n",
       "      <th>customer_product_search_score</th>\n",
       "      <th>customer_ctr_score</th>\n",
       "      <th>customer_stay_score</th>\n",
       "      <th>customer_frequency_score</th>\n",
       "      <th>customer_product_variation_score</th>\n",
       "      <th>customer_order_score</th>\n",
       "      <th>customer_affinity_score</th>\n",
       "      <th>customer_active_segment_A</th>\n",
       "      <th>customer_active_segment_AA</th>\n",
       "      <th>customer_active_segment_B</th>\n",
       "      <th>customer_active_segment_C</th>\n",
       "      <th>customer_active_segment_D</th>\n",
       "      <th>X1_A</th>\n",
       "      <th>X1_AA</th>\n",
       "      <th>X1_BA</th>\n",
       "      <th>X1_E</th>\n",
       "      <th>X1_F</th>\n",
       "    </tr>\n",
       "  </thead>\n",
       "  <tbody>\n",
       "    <tr>\n",
       "      <th>0</th>\n",
       "      <td>13.168425</td>\n",
       "      <td>9.447662</td>\n",
       "      <td>-0.070203</td>\n",
       "      <td>-0.139541</td>\n",
       "      <td>0.436956</td>\n",
       "      <td>4.705761</td>\n",
       "      <td>2.537985</td>\n",
       "      <td>7.959503</td>\n",
       "      <td>0</td>\n",
       "      <td>0</td>\n",
       "      <td>0</td>\n",
       "      <td>1</td>\n",
       "      <td>0</td>\n",
       "      <td>0</td>\n",
       "      <td>0</td>\n",
       "      <td>0</td>\n",
       "      <td>0</td>\n",
       "      <td>1</td>\n",
       "    </tr>\n",
       "    <tr>\n",
       "      <th>1</th>\n",
       "      <td>17.092979</td>\n",
       "      <td>7.329056</td>\n",
       "      <td>0.153298</td>\n",
       "      <td>-0.102726</td>\n",
       "      <td>0.380340</td>\n",
       "      <td>4.205138</td>\n",
       "      <td>4.193444</td>\n",
       "      <td>17.517381</td>\n",
       "      <td>0</td>\n",
       "      <td>0</td>\n",
       "      <td>0</td>\n",
       "      <td>1</td>\n",
       "      <td>0</td>\n",
       "      <td>1</td>\n",
       "      <td>0</td>\n",
       "      <td>0</td>\n",
       "      <td>0</td>\n",
       "      <td>0</td>\n",
       "    </tr>\n",
       "    <tr>\n",
       "      <th>2</th>\n",
       "      <td>17.505334</td>\n",
       "      <td>5.143676</td>\n",
       "      <td>0.106709</td>\n",
       "      <td>0.262834</td>\n",
       "      <td>0.417648</td>\n",
       "      <td>4.479070</td>\n",
       "      <td>3.878971</td>\n",
       "      <td>12.595155</td>\n",
       "      <td>0</td>\n",
       "      <td>0</td>\n",
       "      <td>0</td>\n",
       "      <td>1</td>\n",
       "      <td>0</td>\n",
       "      <td>0</td>\n",
       "      <td>0</td>\n",
       "      <td>1</td>\n",
       "      <td>0</td>\n",
       "      <td>0</td>\n",
       "    </tr>\n",
       "    <tr>\n",
       "      <th>3</th>\n",
       "      <td>31.423381</td>\n",
       "      <td>4.917740</td>\n",
       "      <td>-0.020226</td>\n",
       "      <td>-0.100526</td>\n",
       "      <td>0.778130</td>\n",
       "      <td>5.055535</td>\n",
       "      <td>2.708940</td>\n",
       "      <td>4.795073</td>\n",
       "      <td>0</td>\n",
       "      <td>1</td>\n",
       "      <td>0</td>\n",
       "      <td>0</td>\n",
       "      <td>0</td>\n",
       "      <td>0</td>\n",
       "      <td>0</td>\n",
       "      <td>0</td>\n",
       "      <td>0</td>\n",
       "      <td>1</td>\n",
       "    </tr>\n",
       "    <tr>\n",
       "      <th>4</th>\n",
       "      <td>11.909502</td>\n",
       "      <td>4.237073</td>\n",
       "      <td>0.187178</td>\n",
       "      <td>0.172891</td>\n",
       "      <td>0.162067</td>\n",
       "      <td>3.445247</td>\n",
       "      <td>3.677360</td>\n",
       "      <td>56.636326</td>\n",
       "      <td>0</td>\n",
       "      <td>0</td>\n",
       "      <td>0</td>\n",
       "      <td>1</td>\n",
       "      <td>0</td>\n",
       "      <td>0</td>\n",
       "      <td>1</td>\n",
       "      <td>0</td>\n",
       "      <td>0</td>\n",
       "      <td>0</td>\n",
       "    </tr>\n",
       "  </tbody>\n",
       "</table>\n",
       "</div>"
      ],
      "text/plain": [
       "   customer_visit_score  customer_product_search_score  customer_ctr_score  \\\n",
       "0             13.168425                       9.447662           -0.070203   \n",
       "1             17.092979                       7.329056            0.153298   \n",
       "2             17.505334                       5.143676            0.106709   \n",
       "3             31.423381                       4.917740           -0.020226   \n",
       "4             11.909502                       4.237073            0.187178   \n",
       "\n",
       "   customer_stay_score  customer_frequency_score  \\\n",
       "0            -0.139541                  0.436956   \n",
       "1            -0.102726                  0.380340   \n",
       "2             0.262834                  0.417648   \n",
       "3            -0.100526                  0.778130   \n",
       "4             0.172891                  0.162067   \n",
       "\n",
       "   customer_product_variation_score  customer_order_score  \\\n",
       "0                          4.705761              2.537985   \n",
       "1                          4.205138              4.193444   \n",
       "2                          4.479070              3.878971   \n",
       "3                          5.055535              2.708940   \n",
       "4                          3.445247              3.677360   \n",
       "\n",
       "   customer_affinity_score  customer_active_segment_A  \\\n",
       "0                 7.959503                          0   \n",
       "1                17.517381                          0   \n",
       "2                12.595155                          0   \n",
       "3                 4.795073                          0   \n",
       "4                56.636326                          0   \n",
       "\n",
       "   customer_active_segment_AA  customer_active_segment_B  \\\n",
       "0                           0                          0   \n",
       "1                           0                          0   \n",
       "2                           0                          0   \n",
       "3                           1                          0   \n",
       "4                           0                          0   \n",
       "\n",
       "   customer_active_segment_C  customer_active_segment_D  X1_A  X1_AA  X1_BA  \\\n",
       "0                          1                          0     0      0      0   \n",
       "1                          1                          0     1      0      0   \n",
       "2                          1                          0     0      0      1   \n",
       "3                          0                          0     0      0      0   \n",
       "4                          1                          0     0      1      0   \n",
       "\n",
       "   X1_E  X1_F  \n",
       "0     0     1  \n",
       "1     0     0  \n",
       "2     0     0  \n",
       "3     0     1  \n",
       "4     0     0  "
      ]
     },
     "execution_count": 45,
     "metadata": {},
     "output_type": "execute_result"
    }
   ],
   "source": [
    "x.head()"
   ]
  },
  {
   "cell_type": "code",
   "execution_count": 46,
   "metadata": {
    "executionInfo": {
     "elapsed": 1230,
     "status": "ok",
     "timestamp": 1606807185807,
     "user": {
      "displayName": "Rohit raj",
      "photoUrl": "",
      "userId": "16409116861082602974"
     },
     "user_tz": -330
    },
    "id": "1ulWjrpDWpGY"
   },
   "outputs": [],
   "source": [
    "# x.color_type.value_counts()"
   ]
  },
  {
   "cell_type": "code",
   "execution_count": 47,
   "metadata": {
    "executionInfo": {
     "elapsed": 1062,
     "status": "ok",
     "timestamp": 1606807186684,
     "user": {
      "displayName": "Rohit raj",
      "photoUrl": "",
      "userId": "16409116861082602974"
     },
     "user_tz": -330
    },
    "id": "ay72pM2gdJO8"
   },
   "outputs": [],
   "source": [
    "X_train, X_val, y_train, y_val = train_test_split(x,y,test_size = 0.2)"
   ]
  },
  {
   "cell_type": "code",
   "execution_count": 49,
   "metadata": {
    "colab": {
     "base_uri": "https://localhost:8080/"
    },
    "executionInfo": {
     "elapsed": 1093,
     "status": "ok",
     "timestamp": 1606807187958,
     "user": {
      "displayName": "Rohit raj",
      "photoUrl": "",
      "userId": "16409116861082602974"
     },
     "user_tz": -330
    },
    "id": "8AhqRsCCfkmj",
    "outputId": "9f8bf922-adfc-42f4-da5f-5afe7d59034c"
   },
   "outputs": [],
   "source": [
    "# len(x.columns\n",
    "# test_data.columns"
   ]
  },
  {
   "cell_type": "code",
   "execution_count": 50,
   "metadata": {
    "colab": {
     "base_uri": "https://localhost:8080/"
    },
    "executionInfo": {
     "elapsed": 3347,
     "status": "ok",
     "timestamp": 1606807298345,
     "user": {
      "displayName": "Rohit raj",
      "photoUrl": "",
      "userId": "16409116861082602974"
     },
     "user_tz": -330
    },
    "id": "abwyGJCNiJ9A",
    "outputId": "acf54be0-1c19-4064-8c27-0553c5d51446"
   },
   "outputs": [
    {
     "name": "stderr",
     "output_type": "stream",
     "text": [
      "C:\\Users\\rohit.raj\\AppData\\Local\\Continuum\\anaconda3\\lib\\site-packages\\sklearn\\ensemble\\forest.py:245: FutureWarning: The default value of n_estimators will change from 10 in version 0.20 to 100 in 0.22.\n",
      "  \"10 in version 0.20 to 100 in 0.22.\", FutureWarning)\n",
      "C:\\Users\\rohit.raj\\AppData\\Local\\Continuum\\anaconda3\\lib\\site-packages\\ipykernel_launcher.py:9: DataConversionWarning: A column-vector y was passed when a 1d array was expected. Please change the shape of y to (n_samples,), for example using ravel().\n",
      "  if __name__ == '__main__':\n"
     ]
    },
    {
     "name": "stdout",
     "output_type": "stream",
     "text": [
      "              precision    recall  f1-score   support\n",
      "\n",
      "           0       0.98      0.99      0.99      1854\n",
      "           1       0.94      0.82      0.88       245\n",
      "\n",
      "    accuracy                           0.97      2099\n",
      "   macro avg       0.96      0.91      0.93      2099\n",
      "weighted avg       0.97      0.97      0.97      2099\n",
      "\n"
     ]
    }
   ],
   "source": [
    "from sklearn.ensemble import RandomForestClassifier\n",
    "import lightgbm\n",
    "breed_model =  RandomForestClassifier()\n",
    "\n",
    "# breed_model =  xgb.XGBClassifier()\n",
    "# breed_model =  GradientBoostingClassifier()\n",
    "# breed_model = lightgbm.LGBMClassifier()\n",
    "\n",
    "breed_model.fit(X_train,y_train)\n",
    "# print(breed_model.feature_importances_)\n",
    "\n",
    "print(classification_report(y_val, breed_model.predict(X_val)))\n",
    "\n",
    "preds_breed = breed_model.predict(test_data.drop(columns=['customer_id']))\n"
   ]
  },
  {
   "cell_type": "code",
   "execution_count": 51,
   "metadata": {
    "executionInfo": {
     "elapsed": 1073,
     "status": "ok",
     "timestamp": 1606806972027,
     "user": {
      "displayName": "Rohit raj",
      "photoUrl": "",
      "userId": "16409116861082602974"
     },
     "user_tz": -330
    },
    "id": "xYxsUrqihwrh"
   },
   "outputs": [],
   "source": [
    "cnt =1"
   ]
  },
  {
   "cell_type": "code",
   "execution_count": 53,
   "metadata": {
    "executionInfo": {
     "elapsed": 775,
     "status": "ok",
     "timestamp": 1606807298855,
     "user": {
      "displayName": "Rohit raj",
      "photoUrl": "",
      "userId": "16409116861082602974"
     },
     "user_tz": -330
    },
    "id": "QrLrN2YsYzvB"
   },
   "outputs": [],
   "source": [
    "submission =  pd.DataFrame({'customer_id':test_data['customer_id'],'customer_category':preds_breed})\n",
    "submission.to_csv('sub'+str(cnt)+'.csv',index=0)\n",
    "cnt+=1"
   ]
  },
  {
   "cell_type": "code",
   "execution_count": null,
   "metadata": {},
   "outputs": [],
   "source": []
  }
 ],
 "metadata": {
  "colab": {
   "authorship_tag": "ABX9TyMda3mpfW6FQ9UXqVKVGT5h",
   "name": "Hackerearth Amazon Challenge.ipynb",
   "provenance": [
    {
     "file_id": "1eZNPUZ_FkIpauKilaY5oghmVjGucUi78",
     "timestamp": 1606673313307
    }
   ]
  },
  "kernelspec": {
   "display_name": "Python 3",
   "language": "python",
   "name": "python3"
  },
  "language_info": {
   "codemirror_mode": {
    "name": "ipython",
    "version": 3
   },
   "file_extension": ".py",
   "mimetype": "text/x-python",
   "name": "python",
   "nbconvert_exporter": "python",
   "pygments_lexer": "ipython3",
   "version": "3.7.3"
  },
  "toc": {
   "base_numbering": 1,
   "nav_menu": {},
   "number_sections": true,
   "sideBar": true,
   "skip_h1_title": false,
   "title_cell": "Table of Contents",
   "title_sidebar": "Contents",
   "toc_cell": false,
   "toc_position": {},
   "toc_section_display": true,
   "toc_window_display": false
  },
  "varInspector": {
   "cols": {
    "lenName": 16,
    "lenType": 16,
    "lenVar": 40
   },
   "kernels_config": {
    "python": {
     "delete_cmd_postfix": "",
     "delete_cmd_prefix": "del ",
     "library": "var_list.py",
     "varRefreshCmd": "print(var_dic_list())"
    },
    "r": {
     "delete_cmd_postfix": ") ",
     "delete_cmd_prefix": "rm(",
     "library": "var_list.r",
     "varRefreshCmd": "cat(var_dic_list()) "
    }
   },
   "types_to_exclude": [
    "module",
    "function",
    "builtin_function_or_method",
    "instance",
    "_Feature"
   ],
   "window_display": false
  }
 },
 "nbformat": 4,
 "nbformat_minor": 1
}
